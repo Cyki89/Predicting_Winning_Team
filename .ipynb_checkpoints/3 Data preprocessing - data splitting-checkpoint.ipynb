{
 "cells": [
  {
   "cell_type": "markdown",
   "metadata": {},
   "source": [
    "# 3 Data preprocessing - data splitting"
   ]
  },
  {
   "cell_type": "markdown",
   "metadata": {},
   "source": [
    "<b> Purpose of the action </b> - create two different data sets:\n",
    "- Base dataset contains some continuous features - they will be dedicated to tree-based models.\n",
    "- Categorical dataset contains the newly created categorical features in previous notebook - they will be dedicated to linear models\n",
    "\n",
    "<b> </b>\n",
    "<b> Action plan </b>:\n",
    "- Select validation strategy and split training data on train and validation sets\n",
    "- Create raw base and categorical data sets\n",
    "- Process both sets of data using scaling and encoding\n",
    "- Save all data sets for future use"
   ]
  },
  {
   "cell_type": "markdown",
   "metadata": {},
   "source": [
    "## 3.1 Import necessary libraries and modules"
   ]
  },
  {
   "cell_type": "code",
   "execution_count": 1,
   "metadata": {},
   "outputs": [],
   "source": [
    "import numpy as np\n",
    "import pandas as pd\n",
    "from sklearn.preprocessing import OrdinalEncoder, MinMaxScaler, StandardScaler\n",
    "from sklearn.pipeline import Pipeline, FeatureUnion\n",
    "from data_preprocessing import calc_smooth_mean\n",
    "from preprocessing_pipelines import DataFrameSelector, TwoColumnScaler"
   ]
  },
  {
   "cell_type": "markdown",
   "metadata": {},
   "source": [
    "## 3.2 Read data"
   ]
  },
  {
   "cell_type": "code",
   "execution_count": 2,
   "metadata": {},
   "outputs": [],
   "source": [
    "train_set = pd.read_csv('./preprocessed_data/train_set_stage2.csv', index_col=0)\n",
    "test_set = pd.read_csv('./preprocessed_data/test_set_stage2.csv', index_col=0) "
   ]
  },
  {
   "cell_type": "markdown",
   "metadata": {},
   "source": [
    "## 3.3 Select validation strategy\n",
    "A time-based validate has been chosen due to forecasting the results of the 2019-2020 season"
   ]
  },
  {
   "cell_type": "code",
   "execution_count": 3,
   "metadata": {
    "scrolled": true
   },
   "outputs": [],
   "source": [
    "# choose last season from training set  (2018-2019) as validation set\n",
    "break_point = train_set.shape[0]//19 # 19 - total number of seasons in train set\n",
    "validation_set = train_set.iloc[-break_point:]\n",
    "train_set = train_set.iloc[:-break_point]"
   ]
  },
  {
   "cell_type": "code",
   "execution_count": 4,
   "metadata": {},
   "outputs": [
    {
     "data": {
      "text/plain": [
       "((5940, 84), (330, 84), (190, 84))"
      ]
     },
     "execution_count": 4,
     "metadata": {},
     "output_type": "execute_result"
    }
   ],
   "source": [
    "# show shape of each datasets\n",
    "train_set.shape, validation_set.shape, test_set.shape"
   ]
  },
  {
   "cell_type": "markdown",
   "metadata": {},
   "source": [
    "## 3.4 Assign manually features to the groups"
   ]
  },
  {
   "cell_type": "code",
   "execution_count": 5,
   "metadata": {},
   "outputs": [
    {
     "data": {
      "text/plain": [
       "Index(['HomeTeam', 'AwayTeam', 'HomeTeamWinRatio', 'AwayTeamWinRatio',\n",
       "       'HomeTeamGoalsScored', 'AwayTeamGoalsScored', 'HomeTeamGoalsLost',\n",
       "       'AwayTeamGoalsLost', 'HomeTeamShootsMade', 'AwayTeamShootsMade',\n",
       "       'HomeTeamTargetShootsMade', 'AwayTeamTargetShootsMade',\n",
       "       'HomeTeamCorners', 'AwayTeamCorners', 'HomeTeamTotalPoints',\n",
       "       'AwayTeamTotalPoints', 'HomeTeamPointsFromLast1Matches',\n",
       "       'AwayTeamPointsFromLast1Matches', 'HomeTeamPointsFromLast3Matches',\n",
       "       'AwayTeamPointsFromLast3Matches', 'HomeTeamPointsFromLast5Matches',\n",
       "       'AwayTeamPointsFromLast5Matches', 'HomeTeamPointsFromLast10Matches',\n",
       "       'AwayTeamPointsFromLast10Matches', 'HomeTeamLast1Match',\n",
       "       'AwayTeamLast1Match', 'HomeTeamLast2Match', 'AwayTeamLast2Match',\n",
       "       'HomeTeamLast3Match', 'AwayTeamLast3Match', 'HomeTeamLast4Match',\n",
       "       'AwayTeamLast4Match', 'HomeTeamLast5Match', 'AwayTeamLast5Match',\n",
       "       'HomeTeamWinStreak3', 'HomeTeamWinStreak5', 'HomeTeamLossStreak3',\n",
       "       'HomeTeamLossStreak5', 'AwayTeamWinStreak3', 'AwayTeamWinStreak5',\n",
       "       'AwayTeamLossStreak3', 'AwayTeamLossStreak5',\n",
       "       'HomeTeamLastYearPosition', 'AwayTeamLastYearPosition',\n",
       "       'HomeTeamGoalsDifference', 'AwayTeamGoalsDifference',\n",
       "       'TotalGoalsDifference', 'DifferenceTotalPoints',\n",
       "       'Difference1MatchPoints', 'Difference3MatchesPoints',\n",
       "       'Difference5MatchesPoints', 'Difference10MatchesPoints',\n",
       "       'DifferenceInShoots', 'DifferenceInTargetShoots', 'DifferenceInCorners',\n",
       "       'DifferenceInLastYearPosition', 'IsHomeTeamRegulars',\n",
       "       'IsAwayTeamRegulars', 'IsHomeTeamRookie', 'IsAwayTeamRookie',\n",
       "       'MatchWeek', 'FTR', 'HomeTeamWinRatio_Cat', 'AwayTeamWinRatio_Cat',\n",
       "       'HomeTeamGoalsScored_Cat', 'AwayTeamGoalsScored_Cat',\n",
       "       'HomeTeamGoalsLost_Cat', 'AwayTeamGoalsLost_Cat',\n",
       "       'HomeTeamShootsMade_Cat', 'AwayTeamShootsMade_Cat',\n",
       "       'HomeTeamTargetShootsMade_Cat', 'AwayTeamTargetShootsMade_Cat',\n",
       "       'HomeTeamCorners_Cat', 'AwayTeamCorners_Cat', 'HomeTeamTotalPoints_Cat',\n",
       "       'AwayTeamTotalPoints_Cat', 'HomeTeamGoalsDifference_Cat',\n",
       "       'AwayTeamGoalsDifference_Cat', 'TotalGoalsDifference_Cat',\n",
       "       'DifferenceTotalPoints_Cat', 'Difference10MatchesPoints_Cat',\n",
       "       'DifferenceInShoots_Cat', 'DifferenceInTargetShoots_Cat',\n",
       "       'DifferenceInCorners_Cat'],\n",
       "      dtype='object')"
      ]
     },
     "execution_count": 5,
     "metadata": {},
     "output_type": "execute_result"
    }
   ],
   "source": [
    "train_set.columns"
   ]
  },
  {
   "cell_type": "code",
   "execution_count": 6,
   "metadata": {},
   "outputs": [],
   "source": [
    "target_col = ['FTR']\n",
    "\n",
    "teams_cols =['HomeTeam','AwayTeam']\n",
    "\n",
    "teams_ratio_cols = ['HomeTeamWinRatio', 'AwayTeamWinRatio']\n",
    "\n",
    "teams_ratio_cat_cols = ['HomeTeamWinRatio_Cat', 'AwayTeamWinRatio_Cat']\n",
    "\n",
    "last_year_postion_cols = ['HomeTeamLastYearPosition', 'AwayTeamLastYearPosition']\n",
    "\n",
    "total_cols = ['HomeTeamGoalsScored','AwayTeamGoalsScored','HomeTeamGoalsLost','AwayTeamGoalsLost','HomeTeamShootsMade', \n",
    "              'AwayTeamShootsMade','HomeTeamTargetShootsMade','AwayTeamTargetShootsMade','HomeTeamCorners','AwayTeamCorners',\n",
    "              'HomeTeamTotalPoints','AwayTeamTotalPoints']\n",
    "\n",
    "total_cat_cols = ['HomeTeamTargetShootsMade_Cat', 'AwayTeamTargetShootsMade_Cat', 'HomeTeamGoalsScored_Cat',\n",
    "                  'AwayTeamGoalsScored_Cat', 'HomeTeamGoalsLost_Cat','AwayTeamGoalsLost_Cat', 'HomeTeamShootsMade_Cat',\n",
    "                  'AwayTeamShootsMade_Cat','HomeTeamCorners_Cat', 'AwayTeamCorners_Cat', 'HomeTeamTotalPoints_Cat',\n",
    "                  'AwayTeamTotalPoints_Cat',]\n",
    "\n",
    "last_matches_results_cols = ['HomeTeamLast1Match','AwayTeamLast1Match', 'HomeTeamLast2Match', 'AwayTeamLast2Match',\n",
    "                             'HomeTeamLast3Match', 'AwayTeamLast3Match', 'HomeTeamLast4Match','AwayTeamLast4Match', \n",
    "                             'HomeTeamLast5Match', 'AwayTeamLast5Match',]\n",
    "\n",
    "last_matches_points_cols = ['HomeTeamPointsFromLast3Matches','AwayTeamPointsFromLast3Matches', \n",
    "                            'HomeTeamPointsFromLast5Matches','AwayTeamPointsFromLast5Matches', \n",
    "                            'HomeTeamPointsFromLast10Matches','AwayTeamPointsFromLast10Matches']\n",
    "\n",
    "binary_cols = ['HomeTeamWinStreak3', 'HomeTeamWinStreak5', 'HomeTeamLossStreak3','HomeTeamLossStreak5', \n",
    "               'AwayTeamWinStreak3', 'AwayTeamWinStreak5','AwayTeamLossStreak3', 'AwayTeamLossStreak5',\n",
    "               'IsHomeTeamRegulars', 'IsAwayTeamRegulars', 'IsHomeTeamRookie', 'IsAwayTeamRookie']\n",
    "\n",
    "diff_cols = ['HomeTeamGoalsDifference', 'AwayTeamGoalsDifference','TotalGoalsDifference','DifferenceTotalPoints',\n",
    "             'Difference1MatchPoints', 'Difference3MatchesPoints','Difference5MatchesPoints','Difference10MatchesPoints',\n",
    "             'DifferenceInShoots', 'DifferenceInTargetShoots', 'DifferenceInCorners','DifferenceInLastYearPosition'] \n",
    "\n",
    "diff_cat_cols = ['HomeTeamGoalsDifference_Cat','AwayTeamGoalsDifference_Cat', 'TotalGoalsDifference_Cat',\n",
    "                 'DifferenceTotalPoints_Cat', 'Difference10MatchesPoints_Cat','DifferenceInShoots_Cat',\n",
    "                 'DifferenceInTargetShoots_Cat','DifferenceInCorners_Cat']"
   ]
  },
  {
   "cell_type": "markdown",
   "metadata": {},
   "source": [
    "## 3.5 Split data to base and categorical datasets"
   ]
  },
  {
   "cell_type": "markdown",
   "metadata": {},
   "source": [
    "## 3.5.1 Create base datasets"
   ]
  },
  {
   "cell_type": "code",
   "execution_count": 7,
   "metadata": {},
   "outputs": [
    {
     "data": {
      "text/html": [
       "<div>\n",
       "<style scoped>\n",
       "    .dataframe tbody tr th:only-of-type {\n",
       "        vertical-align: middle;\n",
       "    }\n",
       "\n",
       "    .dataframe tbody tr th {\n",
       "        vertical-align: top;\n",
       "    }\n",
       "\n",
       "    .dataframe thead th {\n",
       "        text-align: right;\n",
       "    }\n",
       "</style>\n",
       "<table border=\"1\" class=\"dataframe\">\n",
       "  <thead>\n",
       "    <tr style=\"text-align: right;\">\n",
       "      <th></th>\n",
       "      <th>FTR</th>\n",
       "      <th>HomeTeamWinStreak3</th>\n",
       "      <th>HomeTeamWinStreak5</th>\n",
       "      <th>HomeTeamLossStreak3</th>\n",
       "      <th>HomeTeamLossStreak5</th>\n",
       "      <th>AwayTeamWinStreak3</th>\n",
       "      <th>AwayTeamWinStreak5</th>\n",
       "      <th>AwayTeamLossStreak3</th>\n",
       "      <th>AwayTeamLossStreak5</th>\n",
       "      <th>IsHomeTeamRegulars</th>\n",
       "      <th>...</th>\n",
       "      <th>HomeTeamGoalsLost</th>\n",
       "      <th>AwayTeamGoalsLost</th>\n",
       "      <th>HomeTeamShootsMade</th>\n",
       "      <th>AwayTeamShootsMade</th>\n",
       "      <th>HomeTeamTargetShootsMade</th>\n",
       "      <th>AwayTeamTargetShootsMade</th>\n",
       "      <th>HomeTeamCorners</th>\n",
       "      <th>AwayTeamCorners</th>\n",
       "      <th>HomeTeamTotalPoints</th>\n",
       "      <th>AwayTeamTotalPoints</th>\n",
       "    </tr>\n",
       "  </thead>\n",
       "  <tbody>\n",
       "    <tr>\n",
       "      <th>0</th>\n",
       "      <td>1</td>\n",
       "      <td>0</td>\n",
       "      <td>0</td>\n",
       "      <td>0</td>\n",
       "      <td>0</td>\n",
       "      <td>0</td>\n",
       "      <td>0</td>\n",
       "      <td>0</td>\n",
       "      <td>0</td>\n",
       "      <td>0</td>\n",
       "      <td>...</td>\n",
       "      <td>5</td>\n",
       "      <td>8</td>\n",
       "      <td>60</td>\n",
       "      <td>40</td>\n",
       "      <td>35</td>\n",
       "      <td>20</td>\n",
       "      <td>26</td>\n",
       "      <td>18</td>\n",
       "      <td>8</td>\n",
       "      <td>5</td>\n",
       "    </tr>\n",
       "    <tr>\n",
       "      <th>1</th>\n",
       "      <td>1</td>\n",
       "      <td>0</td>\n",
       "      <td>0</td>\n",
       "      <td>0</td>\n",
       "      <td>0</td>\n",
       "      <td>0</td>\n",
       "      <td>0</td>\n",
       "      <td>0</td>\n",
       "      <td>0</td>\n",
       "      <td>0</td>\n",
       "      <td>...</td>\n",
       "      <td>11</td>\n",
       "      <td>6</td>\n",
       "      <td>45</td>\n",
       "      <td>50</td>\n",
       "      <td>25</td>\n",
       "      <td>25</td>\n",
       "      <td>35</td>\n",
       "      <td>28</td>\n",
       "      <td>5</td>\n",
       "      <td>10</td>\n",
       "    </tr>\n",
       "    <tr>\n",
       "      <th>2</th>\n",
       "      <td>0</td>\n",
       "      <td>0</td>\n",
       "      <td>0</td>\n",
       "      <td>0</td>\n",
       "      <td>0</td>\n",
       "      <td>0</td>\n",
       "      <td>0</td>\n",
       "      <td>0</td>\n",
       "      <td>0</td>\n",
       "      <td>1</td>\n",
       "      <td>...</td>\n",
       "      <td>8</td>\n",
       "      <td>3</td>\n",
       "      <td>30</td>\n",
       "      <td>85</td>\n",
       "      <td>20</td>\n",
       "      <td>45</td>\n",
       "      <td>30</td>\n",
       "      <td>27</td>\n",
       "      <td>7</td>\n",
       "      <td>11</td>\n",
       "    </tr>\n",
       "    <tr>\n",
       "      <th>3</th>\n",
       "      <td>0</td>\n",
       "      <td>0</td>\n",
       "      <td>0</td>\n",
       "      <td>0</td>\n",
       "      <td>0</td>\n",
       "      <td>0</td>\n",
       "      <td>0</td>\n",
       "      <td>0</td>\n",
       "      <td>0</td>\n",
       "      <td>0</td>\n",
       "      <td>...</td>\n",
       "      <td>5</td>\n",
       "      <td>8</td>\n",
       "      <td>55</td>\n",
       "      <td>60</td>\n",
       "      <td>30</td>\n",
       "      <td>35</td>\n",
       "      <td>35</td>\n",
       "      <td>22</td>\n",
       "      <td>7</td>\n",
       "      <td>4</td>\n",
       "    </tr>\n",
       "    <tr>\n",
       "      <th>4</th>\n",
       "      <td>1</td>\n",
       "      <td>0</td>\n",
       "      <td>0</td>\n",
       "      <td>0</td>\n",
       "      <td>0</td>\n",
       "      <td>0</td>\n",
       "      <td>0</td>\n",
       "      <td>0</td>\n",
       "      <td>0</td>\n",
       "      <td>0</td>\n",
       "      <td>...</td>\n",
       "      <td>9</td>\n",
       "      <td>4</td>\n",
       "      <td>65</td>\n",
       "      <td>50</td>\n",
       "      <td>45</td>\n",
       "      <td>35</td>\n",
       "      <td>41</td>\n",
       "      <td>27</td>\n",
       "      <td>3</td>\n",
       "      <td>10</td>\n",
       "    </tr>\n",
       "  </tbody>\n",
       "</table>\n",
       "<p>5 rows × 59 columns</p>\n",
       "</div>"
      ],
      "text/plain": [
       "   FTR  HomeTeamWinStreak3  HomeTeamWinStreak5  HomeTeamLossStreak3  \\\n",
       "0    1                   0                   0                    0   \n",
       "1    1                   0                   0                    0   \n",
       "2    0                   0                   0                    0   \n",
       "3    0                   0                   0                    0   \n",
       "4    1                   0                   0                    0   \n",
       "\n",
       "   HomeTeamLossStreak5  AwayTeamWinStreak3  AwayTeamWinStreak5  \\\n",
       "0                    0                   0                   0   \n",
       "1                    0                   0                   0   \n",
       "2                    0                   0                   0   \n",
       "3                    0                   0                   0   \n",
       "4                    0                   0                   0   \n",
       "\n",
       "   AwayTeamLossStreak3  AwayTeamLossStreak5  IsHomeTeamRegulars  ...  \\\n",
       "0                    0                    0                   0  ...   \n",
       "1                    0                    0                   0  ...   \n",
       "2                    0                    0                   1  ...   \n",
       "3                    0                    0                   0  ...   \n",
       "4                    0                    0                   0  ...   \n",
       "\n",
       "   HomeTeamGoalsLost  AwayTeamGoalsLost  HomeTeamShootsMade  \\\n",
       "0                  5                  8                  60   \n",
       "1                 11                  6                  45   \n",
       "2                  8                  3                  30   \n",
       "3                  5                  8                  55   \n",
       "4                  9                  4                  65   \n",
       "\n",
       "   AwayTeamShootsMade  HomeTeamTargetShootsMade  AwayTeamTargetShootsMade  \\\n",
       "0                  40                        35                        20   \n",
       "1                  50                        25                        25   \n",
       "2                  85                        20                        45   \n",
       "3                  60                        30                        35   \n",
       "4                  50                        45                        35   \n",
       "\n",
       "   HomeTeamCorners  AwayTeamCorners  HomeTeamTotalPoints  AwayTeamTotalPoints  \n",
       "0               26               18                    8                    5  \n",
       "1               35               28                    5                   10  \n",
       "2               30               27                    7                   11  \n",
       "3               35               22                    7                    4  \n",
       "4               41               27                    3                   10  \n",
       "\n",
       "[5 rows x 59 columns]"
      ]
     },
     "execution_count": 7,
     "metadata": {},
     "output_type": "execute_result"
    }
   ],
   "source": [
    "# define base features column set\n",
    "base_features = [*target_col, *binary_cols, *teams_ratio_cols, *last_matches_points_cols, *last_matches_results_cols,\n",
    "                 *last_year_postion_cols, *diff_cols, *teams_cols, *total_cols]\n",
    "\n",
    "# create base datasets using appropirate columns\n",
    "base_train_set = train_set.loc[:, base_features]\n",
    "base_validation_set = validation_set.loc[:, base_features]\n",
    "base_test_set = test_set.loc[:, base_features]\n",
    "\n",
    "# save base datasets\n",
    "base_train_set.to_csv(\"./preprocessed_data/base_train_set.csv\")\n",
    "base_validation_set.to_csv(\"./preprocessed_data/base_validation_set.csv\")\n",
    "base_test_set.to_csv(\"./preprocessed_data/base_test_set.csv\")\n",
    "\n",
    "base_train_set.head()"
   ]
  },
  {
   "cell_type": "markdown",
   "metadata": {},
   "source": [
    "## 3.5.2 Create categorical dataset"
   ]
  },
  {
   "cell_type": "code",
   "execution_count": 8,
   "metadata": {},
   "outputs": [
    {
     "data": {
      "text/html": [
       "<div>\n",
       "<style scoped>\n",
       "    .dataframe tbody tr th:only-of-type {\n",
       "        vertical-align: middle;\n",
       "    }\n",
       "\n",
       "    .dataframe tbody tr th {\n",
       "        vertical-align: top;\n",
       "    }\n",
       "\n",
       "    .dataframe thead th {\n",
       "        text-align: right;\n",
       "    }\n",
       "</style>\n",
       "<table border=\"1\" class=\"dataframe\">\n",
       "  <thead>\n",
       "    <tr style=\"text-align: right;\">\n",
       "      <th></th>\n",
       "      <th>FTR</th>\n",
       "      <th>HomeTeam</th>\n",
       "      <th>AwayTeam</th>\n",
       "      <th>HomeTeamWinStreak3</th>\n",
       "      <th>HomeTeamWinStreak5</th>\n",
       "      <th>HomeTeamLossStreak3</th>\n",
       "      <th>HomeTeamLossStreak5</th>\n",
       "      <th>AwayTeamWinStreak3</th>\n",
       "      <th>AwayTeamWinStreak5</th>\n",
       "      <th>AwayTeamLossStreak3</th>\n",
       "      <th>...</th>\n",
       "      <th>HomeTeamGoalsScored_Cat</th>\n",
       "      <th>AwayTeamGoalsScored_Cat</th>\n",
       "      <th>HomeTeamGoalsLost_Cat</th>\n",
       "      <th>AwayTeamGoalsLost_Cat</th>\n",
       "      <th>HomeTeamShootsMade_Cat</th>\n",
       "      <th>AwayTeamShootsMade_Cat</th>\n",
       "      <th>HomeTeamCorners_Cat</th>\n",
       "      <th>AwayTeamCorners_Cat</th>\n",
       "      <th>HomeTeamTotalPoints_Cat</th>\n",
       "      <th>AwayTeamTotalPoints_Cat</th>\n",
       "    </tr>\n",
       "  </thead>\n",
       "  <tbody>\n",
       "    <tr>\n",
       "      <th>0</th>\n",
       "      <td>1</td>\n",
       "      <td>Aston Villa</td>\n",
       "      <td>Bradford</td>\n",
       "      <td>0</td>\n",
       "      <td>0</td>\n",
       "      <td>0</td>\n",
       "      <td>0</td>\n",
       "      <td>0</td>\n",
       "      <td>0</td>\n",
       "      <td>0</td>\n",
       "      <td>...</td>\n",
       "      <td>0</td>\n",
       "      <td>0</td>\n",
       "      <td>0</td>\n",
       "      <td>0</td>\n",
       "      <td>0</td>\n",
       "      <td>0</td>\n",
       "      <td>0</td>\n",
       "      <td>0</td>\n",
       "      <td>0</td>\n",
       "      <td>0</td>\n",
       "    </tr>\n",
       "    <tr>\n",
       "      <th>1</th>\n",
       "      <td>1</td>\n",
       "      <td>Charlton</td>\n",
       "      <td>Tottenham</td>\n",
       "      <td>0</td>\n",
       "      <td>0</td>\n",
       "      <td>0</td>\n",
       "      <td>0</td>\n",
       "      <td>0</td>\n",
       "      <td>0</td>\n",
       "      <td>0</td>\n",
       "      <td>...</td>\n",
       "      <td>0</td>\n",
       "      <td>0</td>\n",
       "      <td>1</td>\n",
       "      <td>0</td>\n",
       "      <td>0</td>\n",
       "      <td>0</td>\n",
       "      <td>0</td>\n",
       "      <td>0</td>\n",
       "      <td>0</td>\n",
       "      <td>1</td>\n",
       "    </tr>\n",
       "    <tr>\n",
       "      <th>2</th>\n",
       "      <td>0</td>\n",
       "      <td>Everton</td>\n",
       "      <td>Man United</td>\n",
       "      <td>0</td>\n",
       "      <td>0</td>\n",
       "      <td>0</td>\n",
       "      <td>0</td>\n",
       "      <td>0</td>\n",
       "      <td>0</td>\n",
       "      <td>0</td>\n",
       "      <td>...</td>\n",
       "      <td>0</td>\n",
       "      <td>1</td>\n",
       "      <td>0</td>\n",
       "      <td>0</td>\n",
       "      <td>0</td>\n",
       "      <td>0</td>\n",
       "      <td>0</td>\n",
       "      <td>0</td>\n",
       "      <td>0</td>\n",
       "      <td>1</td>\n",
       "    </tr>\n",
       "    <tr>\n",
       "      <th>3</th>\n",
       "      <td>0</td>\n",
       "      <td>Leeds</td>\n",
       "      <td>Ipswich</td>\n",
       "      <td>0</td>\n",
       "      <td>0</td>\n",
       "      <td>0</td>\n",
       "      <td>0</td>\n",
       "      <td>0</td>\n",
       "      <td>0</td>\n",
       "      <td>0</td>\n",
       "      <td>...</td>\n",
       "      <td>0</td>\n",
       "      <td>0</td>\n",
       "      <td>0</td>\n",
       "      <td>0</td>\n",
       "      <td>0</td>\n",
       "      <td>0</td>\n",
       "      <td>0</td>\n",
       "      <td>0</td>\n",
       "      <td>0</td>\n",
       "      <td>0</td>\n",
       "    </tr>\n",
       "    <tr>\n",
       "      <th>4</th>\n",
       "      <td>1</td>\n",
       "      <td>Southampton</td>\n",
       "      <td>Newcastle</td>\n",
       "      <td>0</td>\n",
       "      <td>0</td>\n",
       "      <td>0</td>\n",
       "      <td>0</td>\n",
       "      <td>0</td>\n",
       "      <td>0</td>\n",
       "      <td>0</td>\n",
       "      <td>...</td>\n",
       "      <td>0</td>\n",
       "      <td>0</td>\n",
       "      <td>0</td>\n",
       "      <td>0</td>\n",
       "      <td>0</td>\n",
       "      <td>0</td>\n",
       "      <td>0</td>\n",
       "      <td>0</td>\n",
       "      <td>0</td>\n",
       "      <td>1</td>\n",
       "    </tr>\n",
       "  </tbody>\n",
       "</table>\n",
       "<p>5 rows × 55 columns</p>\n",
       "</div>"
      ],
      "text/plain": [
       "   FTR     HomeTeam    AwayTeam  HomeTeamWinStreak3  HomeTeamWinStreak5  \\\n",
       "0    1  Aston Villa    Bradford                   0                   0   \n",
       "1    1     Charlton   Tottenham                   0                   0   \n",
       "2    0      Everton  Man United                   0                   0   \n",
       "3    0        Leeds     Ipswich                   0                   0   \n",
       "4    1  Southampton   Newcastle                   0                   0   \n",
       "\n",
       "   HomeTeamLossStreak3  HomeTeamLossStreak5  AwayTeamWinStreak3  \\\n",
       "0                    0                    0                   0   \n",
       "1                    0                    0                   0   \n",
       "2                    0                    0                   0   \n",
       "3                    0                    0                   0   \n",
       "4                    0                    0                   0   \n",
       "\n",
       "   AwayTeamWinStreak5  AwayTeamLossStreak3  ...  HomeTeamGoalsScored_Cat  \\\n",
       "0                   0                    0  ...                        0   \n",
       "1                   0                    0  ...                        0   \n",
       "2                   0                    0  ...                        0   \n",
       "3                   0                    0  ...                        0   \n",
       "4                   0                    0  ...                        0   \n",
       "\n",
       "   AwayTeamGoalsScored_Cat  HomeTeamGoalsLost_Cat  AwayTeamGoalsLost_Cat  \\\n",
       "0                        0                      0                      0   \n",
       "1                        0                      1                      0   \n",
       "2                        1                      0                      0   \n",
       "3                        0                      0                      0   \n",
       "4                        0                      0                      0   \n",
       "\n",
       "   HomeTeamShootsMade_Cat  AwayTeamShootsMade_Cat  HomeTeamCorners_Cat  \\\n",
       "0                       0                       0                    0   \n",
       "1                       0                       0                    0   \n",
       "2                       0                       0                    0   \n",
       "3                       0                       0                    0   \n",
       "4                       0                       0                    0   \n",
       "\n",
       "   AwayTeamCorners_Cat  HomeTeamTotalPoints_Cat  AwayTeamTotalPoints_Cat  \n",
       "0                    0                        0                        0  \n",
       "1                    0                        0                        1  \n",
       "2                    0                        0                        1  \n",
       "3                    0                        0                        0  \n",
       "4                    0                        0                        1  \n",
       "\n",
       "[5 rows x 55 columns]"
      ]
     },
     "execution_count": 8,
     "metadata": {},
     "output_type": "execute_result"
    }
   ],
   "source": [
    "# define categorical features column set\n",
    "categorical_features = [*target_col, *teams_cols, *binary_cols, *teams_ratio_cat_cols, *last_matches_points_cols,\n",
    "                        *last_matches_results_cols, *last_year_postion_cols, *diff_cat_cols, *total_cat_cols]\n",
    "\n",
    "# create base datasets using appropirate columns\n",
    "categorical_train_set = train_set.loc[:, categorical_features]\n",
    "categorical_validation_set = validation_set.loc[:, categorical_features]\n",
    "categorical_test_set = test_set.loc[:, categorical_features]\n",
    "\n",
    "# save categorical datasets\n",
    "categorical_train_set.to_csv(\"./preprocessed_data/categorical_train_set.csv\")\n",
    "categorical_validation_set.to_csv(\"./preprocessed_data/categorical_validation_set.csv\")\n",
    "categorical_test_set.to_csv(\"./preprocessed_data/categorical_test_set.csv\")\n",
    "\n",
    "categorical_train_set.head()"
   ]
  },
  {
   "cell_type": "markdown",
   "metadata": {},
   "source": [
    "## 3.6 Process base datasets"
   ]
  },
  {
   "cell_type": "markdown",
   "metadata": {},
   "source": [
    "### 3.6.1 Create processing pipelines for base datasets  (scalling, encoding)"
   ]
  },
  {
   "cell_type": "code",
   "execution_count": 9,
   "metadata": {},
   "outputs": [],
   "source": [
    "# all transformes from module data_preprocessing.py\n",
    "select_target_pipeline = Pipeline([\n",
    "    ('select_cols', DataFrameSelector([*target_col]))\n",
    "])\n",
    "\n",
    "standard_scaling_pipeline = Pipeline([\n",
    "    ('select_cols', DataFrameSelector([* binary_cols, *teams_ratio_cols, *last_matches_points_cols, \n",
    "                                       *last_matches_results_cols, *last_year_postion_cols, *diff_cols]) ),\n",
    "    ('standard_scaler', StandardScaler() )\n",
    "])\n",
    "\n",
    "# label enocoding team names\n",
    "ordinal_encoder_pipeline = Pipeline([\n",
    "    ('select_cols', DataFrameSelector([*teams_cols]) ),\n",
    "    ('ordinal_encoder', OrdinalEncoder() ),\n",
    "    ('standard_scaler', StandardScaler() )\n",
    "])\n",
    "\n",
    "# process two features to the same scale(leaving dependencies between them)\n",
    "goals_scored_pipeline = Pipeline([\n",
    "    ('select_cols', DataFrameSelector([total_cols[0], total_cols[1]]) ),\n",
    "    ('two_column_scaler', TwoColumnScaler(scaler=StandardScaler() ))\n",
    "])\n",
    "\n",
    "goals_lost_pipeline = Pipeline([\n",
    "    ('select_cols', DataFrameSelector([total_cols[2], total_cols[3]]) ),\n",
    "    ('two_column_scaler', TwoColumnScaler(scaler=StandardScaler() ))\n",
    "])\n",
    "\n",
    "shoot_made_pipeline = Pipeline([\n",
    "    ('select_cols', DataFrameSelector([total_cols[4], total_cols[5]]) ),\n",
    "    ('two_column_scaler', TwoColumnScaler(scaler=StandardScaler() ))\n",
    "])\n",
    "\n",
    "total_shoot_made_pipeline = Pipeline([\n",
    "    ('select_cols', DataFrameSelector([total_cols[6], total_cols[7]]) ),\n",
    "    ('two_column_scaler', TwoColumnScaler(scaler=StandardScaler() ))\n",
    "])\n",
    "\n",
    "corners_pipeline = Pipeline([\n",
    "    ('select_cols', DataFrameSelector([total_cols[8], total_cols[9]]) ),\n",
    "    ('two_column_scaler', TwoColumnScaler(scaler=StandardScaler() ))\n",
    "])\n",
    "\n",
    "total_points_pipeline = Pipeline([\n",
    "    ('select_cols', DataFrameSelector([total_cols[10], total_cols[11]]) ),\n",
    "    ('two_column_scaler', TwoColumnScaler(scaler=StandardScaler() ))\n",
    "])"
   ]
  },
  {
   "cell_type": "markdown",
   "metadata": {},
   "source": [
    "### 3.6.2 Merge all pipelines in one"
   ]
  },
  {
   "cell_type": "code",
   "execution_count": 10,
   "metadata": {},
   "outputs": [],
   "source": [
    "base_process_pipeline = FeatureUnion(transformer_list=[\n",
    "                                    ('select_target_pipeline', select_target_pipeline),\n",
    "                                    ('standard_scaling_pipeline', standard_scaling_pipeline),\n",
    "                                    ('ordinal_encoder_pipeline', ordinal_encoder_pipeline),\n",
    "                                    ('goals_scored_pipeline', goals_scored_pipeline),\n",
    "                                    ('goals_lost_pipeline', goals_lost_pipeline),\n",
    "                                    ('shoot_made_pipeline', shoot_made_pipeline),\n",
    "                                    ('total_shoot_made_pipeline', total_shoot_made_pipeline),\n",
    "                                    ('corners_pipeline', corners_pipeline),\n",
    "                                    ('total_points_pipeline', total_points_pipeline),\n",
    "])"
   ]
  },
  {
   "cell_type": "markdown",
   "metadata": {},
   "source": [
    "### 3.6.3 Transform base datasets"
   ]
  },
  {
   "cell_type": "code",
   "execution_count": 11,
   "metadata": {},
   "outputs": [
    {
     "name": "stdout",
     "output_type": "stream",
     "text": [
      "(5940, 59)\n",
      "(330, 59)\n",
      "(190, 59)\n"
     ]
    }
   ],
   "source": [
    "# fit pipeline on training set\n",
    "base_pipe = base_process_pipeline.fit(base_train_set)\n",
    "\n",
    "processed_base_train_set_np = base_pipe.transform(base_train_set)\n",
    "print(processed_base_train_set_np.shape)\n",
    "\n",
    "processed_base_validation_set_np = base_pipe.transform(base_validation_set)\n",
    "print(processed_base_validation_set_np.shape)\n",
    "\n",
    "processed_base_test_set_np = base_pipe.transform(base_test_set)\n",
    "print(processed_base_test_set_np.shape)"
   ]
  },
  {
   "cell_type": "markdown",
   "metadata": {},
   "source": [
    "### 3.6.4 Save datasets to csv files"
   ]
  },
  {
   "cell_type": "code",
   "execution_count": 12,
   "metadata": {},
   "outputs": [],
   "source": [
    "# first make data frame of each sets\n",
    "processed_base_train_set_df = pd.DataFrame(data=processed_base_train_set_np, columns=base_features)\n",
    "processed_base_validation_set_df = pd.DataFrame(data=processed_base_validation_set_np, columns=base_features)\n",
    "processed_base_test_set_df = pd.DataFrame(data=processed_base_test_set_np, columns=base_features)\n",
    "\n",
    "# save data to files\n",
    "processed_base_train_set_df.to_csv(\"./preprocessed_data/processed_base_train_set.csv\")\n",
    "processed_base_validation_set_df.to_csv(\"./preprocessed_data/processed_base_validation_set.csv\")\n",
    "processed_base_test_set_df.to_csv(\"./preprocessed_data/processed_base_test_set.csv\")"
   ]
  },
  {
   "cell_type": "markdown",
   "metadata": {},
   "source": [
    "## 3.7 Process categorical datasets "
   ]
  },
  {
   "cell_type": "markdown",
   "metadata": {},
   "source": [
    "### 3.7.1 Transform team names using target mean encoding"
   ]
  },
  {
   "cell_type": "code",
   "execution_count": 13,
   "metadata": {},
   "outputs": [],
   "source": [
    "# function from data_preprocessing.py\n",
    "categorical_train_set['HomeTeam'], categorical_test_set['HomeTeam'], categorical_validation_set['HomeTeam'] = calc_smooth_mean(\n",
    "                                                       categorical_train_set, categorical_test_set, categorical_validation_set, \n",
    "                                                                                   cat_name='HomeTeam', target='FTR', weight=10)\n",
    "\n",
    "categorical_train_set['AwayTeam'], categorical_test_set['AwayTeam'], categorical_validation_set['AwayTeam'] = calc_smooth_mean(\n",
    "                                                       categorical_train_set, categorical_test_set, categorical_validation_set, \n",
    "                                                                                   cat_name='AwayTeam', target='FTR', weight=10)"
   ]
  },
  {
   "cell_type": "markdown",
   "metadata": {},
   "source": [
    "### 3.7.2  Create processing pipelines for categorical datasets  (scalling)"
   ]
  },
  {
   "cell_type": "code",
   "execution_count": 14,
   "metadata": {},
   "outputs": [],
   "source": [
    "# all transformes from preprocessing_pipelines.py\n",
    "select_target_pipeline = Pipeline([\n",
    "    ('select_cols', DataFrameSelector([*target_col]))\n",
    "])\n",
    "\n",
    "standard_scaling_pipeline = Pipeline([\n",
    "    ('select_cols', DataFrameSelector([*teams_cols, *binary_cols, *teams_ratio_cat_cols, \n",
    "                                       *last_matches_points_cols, *last_matches_results_cols,\n",
    "                                       *last_year_postion_cols, *diff_cat_cols, *total_cat_cols]) ),\n",
    "    ('standard_scaler', StandardScaler() )\n",
    "])"
   ]
  },
  {
   "cell_type": "markdown",
   "metadata": {},
   "source": [
    "### 3.7.3  Merge all pipelines in one"
   ]
  },
  {
   "cell_type": "code",
   "execution_count": 15,
   "metadata": {},
   "outputs": [],
   "source": [
    "cat_process_pipeline = FeatureUnion(transformer_list=[\n",
    "                                    ('select_target_pipeline', select_target_pipeline),\n",
    "                                    ('standard_scaling_pipeline', standard_scaling_pipeline),\n",
    "])"
   ]
  },
  {
   "cell_type": "markdown",
   "metadata": {},
   "source": [
    "### 3.7.4 Transform features"
   ]
  },
  {
   "cell_type": "code",
   "execution_count": 16,
   "metadata": {},
   "outputs": [
    {
     "name": "stdout",
     "output_type": "stream",
     "text": [
      "(5940, 55)\n",
      "(330, 55)\n",
      "(190, 55)\n"
     ]
    }
   ],
   "source": [
    "# fit pipeline on training set\n",
    "cat_pipe = cat_process_pipeline.fit(categorical_train_set)\n",
    "\n",
    "processed_cat_train_set_np = cat_pipe.transform(categorical_train_set)\n",
    "print(processed_cat_train_set_np.shape)\n",
    "\n",
    "processed_cat_validation_set_np = cat_pipe.transform(categorical_validation_set)\n",
    "print(processed_cat_validation_set_np.shape)\n",
    "\n",
    "processed_cat_test_set_np = cat_pipe.transform(categorical_test_set)\n",
    "print(processed_cat_test_set_np.shape)"
   ]
  },
  {
   "cell_type": "markdown",
   "metadata": {},
   "source": [
    "### 3.7.4 Save datasets to csv files"
   ]
  },
  {
   "cell_type": "code",
   "execution_count": 17,
   "metadata": {},
   "outputs": [],
   "source": [
    "# first make data frame of each data sets\n",
    "processed_cat_train_set_df = pd.DataFrame(data=processed_cat_train_set_np, columns=categorical_features)\n",
    "processed_cat_validation_set_df = pd.DataFrame(data=processed_cat_validation_set_np, columns=categorical_features)\n",
    "processed_cat_test_set_df = pd.DataFrame(data=processed_cat_test_set_np, columns=categorical_features)\n",
    "\n",
    "# save data to files\n",
    "processed_cat_train_set_df.to_csv(\"./preprocessed_data/processed_categorical_train_set.csv\")\n",
    "processed_cat_validation_set_df.to_csv(\"./preprocessed_data/processed_categorical_validation_set.csv\")\n",
    "processed_cat_test_set_df.to_csv(\"./preprocessed_data/processed_categorical_test_set.csv\")"
   ]
  }
 ],
 "metadata": {
  "kernelspec": {
   "display_name": "Python 3",
   "language": "python",
   "name": "python3"
  },
  "language_info": {
   "codemirror_mode": {
    "name": "ipython",
    "version": 3
   },
   "file_extension": ".py",
   "mimetype": "text/x-python",
   "name": "python",
   "nbconvert_exporter": "python",
   "pygments_lexer": "ipython3",
   "version": "3.7.6"
  }
 },
 "nbformat": 4,
 "nbformat_minor": 3
}
