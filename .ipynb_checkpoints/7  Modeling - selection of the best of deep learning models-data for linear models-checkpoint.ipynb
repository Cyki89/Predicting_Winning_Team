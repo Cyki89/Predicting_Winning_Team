{
 "cells": [
  {
   "cell_type": "markdown",
   "metadata": {},
   "source": [
    "# 7  Modeling - selection of the best deep learning models"
   ]
  },
  {
   "cell_type": "markdown",
   "metadata": {},
   "source": [
    "<b> Purpose of the action </b> - checking accuracy of prediction on test set using 2 different types of Neural Networks:\n",
    "- ANN only with Dense layers\n",
    "- RNN with LSTM layers\n",
    "\n",
    "<b> </b>\n",
    "<b> Action plan </b>:\n",
    "- Select best hyperparameters for both type of Neural Network using ParameterSampler to generate different models with random hyperparameters. For fitting models use training set and for models evaluation use validation set\n",
    "- Save both models.\n",
    "- Compare prediction accuracy and other metrics on test set and save results for future purpose"
   ]
  },
  {
   "cell_type": "markdown",
   "metadata": {},
   "source": [
    "## 7.1 Import nessesary libraries and modules"
   ]
  },
  {
   "cell_type": "code",
   "execution_count": 1,
   "metadata": {},
   "outputs": [],
   "source": [
    "import numpy as np\n",
    "import pandas as pd\n",
    "from sklearn import metrics\n",
    "import tensorflow as tf\n",
    "from modeling import select_best_nn_classifier, build_ann_classifier, build_rnn_classifier"
   ]
  },
  {
   "cell_type": "markdown",
   "metadata": {},
   "source": [
    "## 7.2 Create empty lists for future results"
   ]
  },
  {
   "cell_type": "code",
   "execution_count": 2,
   "metadata": {},
   "outputs": [],
   "source": [
    "accuracy_score = []\n",
    "precision_score = []\n",
    "recall_score = []\n",
    "f1_score = []\n",
    "roc_auc_score = []"
   ]
  },
  {
   "cell_type": "markdown",
   "metadata": {},
   "source": [
    "## 7.3 Make test prediction using Artificial Neural Network(ANN)"
   ]
  },
  {
   "cell_type": "markdown",
   "metadata": {},
   "source": [
    "### 7.3.1 Import data dedicated for this model"
   ]
  },
  {
   "cell_type": "code",
   "execution_count": 3,
   "metadata": {},
   "outputs": [],
   "source": [
    "train_set = pd.read_csv(\"./preprocessed_data/processed_categorical_train_set.csv\", index_col=0)\n",
    "validation_set = pd.read_csv(\"./preprocessed_data/processed_categorical_validation_set.csv\", index_col=0)\n",
    "test_set = pd.read_csv(\"./preprocessed_data/processed_categorical_test_set.csv\", index_col=0)"
   ]
  },
  {
   "cell_type": "markdown",
   "metadata": {},
   "source": [
    "### 7.3.2 Split datasets to feature set and labels set"
   ]
  },
  {
   "cell_type": "code",
   "execution_count": 4,
   "metadata": {},
   "outputs": [],
   "source": [
    "X_train, y_train = np.array(train_set.drop(columns='FTR')), np.array(train_set['FTR'])\n",
    "X_val, y_val = np.array(validation_set.drop(columns='FTR')), np.array(validation_set['FTR'])\n",
    "X_test, y_test = np.array(test_set.drop(columns='FTR')), np.array(test_set['FTR'])"
   ]
  },
  {
   "cell_type": "markdown",
   "metadata": {},
   "source": [
    "### 7.3.3 Select the best model using Keras wraper for the Scikit-Learn API and ParameterSampler to generate models with diffrent parameters"
   ]
  },
  {
   "cell_type": "markdown",
   "metadata": {},
   "source": [
    "Check 10 combinations of neural network models to choose the best one"
   ]
  },
  {
   "cell_type": "code",
   "execution_count": 5,
   "metadata": {},
   "outputs": [
    {
     "name": "stdout",
     "output_type": "stream",
     "text": [
      "KerasClassifier{'n_hiden_layers': 4, 'hidden_layer_size': 32, 'batch_size': 8}\n",
      "Accuracy score on training set: 0.5278 | Accuracy score on validation set: 0.5152\n",
      "----------------------------------------------------------------------------------------------------\n",
      "KerasClassifier{'n_hiden_layers': 1, 'hidden_layer_size': 32, 'batch_size': 16}\n",
      "Accuracy score on training set: 0.6648 | Accuracy score on validation set: 0.6545\n",
      "----------------------------------------------------------------------------------------------------\n",
      "KerasClassifier{'n_hiden_layers': 3, 'hidden_layer_size': 32, 'batch_size': 8}\n",
      "Accuracy score on training set: 0.5278 | Accuracy score on validation set: 0.5152\n",
      "----------------------------------------------------------------------------------------------------\n",
      "KerasClassifier{'n_hiden_layers': 4, 'hidden_layer_size': 32, 'batch_size': 16}\n",
      "Accuracy score on training set: 0.5278 | Accuracy score on validation set: 0.5152\n",
      "----------------------------------------------------------------------------------------------------\n",
      "KerasClassifier{'n_hiden_layers': 1, 'hidden_layer_size': 32, 'batch_size': 8}\n",
      "Accuracy score on training set: 0.6653 | Accuracy score on validation set: 0.6667\n",
      "----------------------------------------------------------------------------------------------------\n",
      "KerasClassifier{'n_hiden_layers': 2, 'hidden_layer_size': 64, 'batch_size': 16}\n",
      "Accuracy score on training set: 0.5278 | Accuracy score on validation set: 0.5152\n",
      "----------------------------------------------------------------------------------------------------\n",
      "KerasClassifier{'n_hiden_layers': 1, 'hidden_layer_size': 16, 'batch_size': 4}\n",
      "Accuracy score on training set: 0.6638 | Accuracy score on validation set: 0.6697\n",
      "----------------------------------------------------------------------------------------------------\n",
      "KerasClassifier{'n_hiden_layers': 4, 'hidden_layer_size': 128, 'batch_size': 8}\n",
      "Accuracy score on training set: 0.5278 | Accuracy score on validation set: 0.5152\n",
      "----------------------------------------------------------------------------------------------------\n",
      "KerasClassifier{'n_hiden_layers': 1, 'hidden_layer_size': 64, 'batch_size': 4}\n",
      "Accuracy score on training set: 0.6685 | Accuracy score on validation set: 0.6606\n",
      "----------------------------------------------------------------------------------------------------\n",
      "KerasClassifier{'n_hiden_layers': 2, 'hidden_layer_size': 32, 'batch_size': 8}\n",
      "Accuracy score on training set: 0.5278 | Accuracy score on validation set: 0.5152\n",
      "----------------------------------------------------------------------------------------------------\n",
      "Best params: KerasClassifier{'n_hiden_layers': 1, 'hidden_layer_size': 16, 'batch_size': 4}\n"
     ]
    }
   ],
   "source": [
    "# define params for random grid search\n",
    "params_grid = {\n",
    "    'n_hiden_layers': [1, 2, 3, 4],\n",
    "    'hidden_layer_size' : [128, 64, 32, 16],\n",
    "    'batch_size' : [4, 8, 16]\n",
    "}\n",
    "\n",
    "# add early stopping callback\n",
    "early_stopping = tf.keras.callbacks.EarlyStopping(\n",
    "    monitor='val_loss', \n",
    "    verbose=0,\n",
    "    patience=10,\n",
    "    mode='max',\n",
    "    restore_best_weights=True)\n",
    "\n",
    "# function to seleting best neural network model \n",
    "clf_params, clf = select_best_nn_classifier(build_func=build_ann_classifier, \n",
    "                                            params_grid=params_grid,\n",
    "                                            n_iter=10,\n",
    "                                            random_state=42,\n",
    "                                            X_train=X_train,\n",
    "                                            y_train=y_train, \n",
    "                                            X_val=X_val, \n",
    "                                            y_val=y_val,\n",
    "                                            early_stopping=early_stopping,\n",
    "                                            epochs=100,\n",
    "                                            shuffle=False, \n",
    "                                            verbose=1)\n",
    "\n",
    "# look on the best chosen params\n",
    "print('Best params:', clf_params)"
   ]
  },
  {
   "cell_type": "markdown",
   "metadata": {},
   "source": [
    "### 7.3.4 Calculate metrics of prediction and add results to the lists"
   ]
  },
  {
   "cell_type": "code",
   "execution_count": 6,
   "metadata": {},
   "outputs": [],
   "source": [
    "# append metrics for single classifier to the list \n",
    "accuracy_score.append(metrics.accuracy_score(y_test , clf.predict(X_test)))  \n",
    "precision_score.append(metrics.precision_score(y_test , clf.predict(X_test)))\n",
    "recall_score.append(metrics.recall_score(y_test , clf.predict(X_test)))\n",
    "f1_score.append( metrics.f1_score(y_test , clf.predict(X_test)))\n",
    "roc_auc_score.append(metrics.roc_auc_score(y_test , clf.predict_proba(X_test)[:,1]))"
   ]
  },
  {
   "cell_type": "markdown",
   "metadata": {},
   "source": [
    "### 7.3.5 Save the model for future use"
   ]
  },
  {
   "cell_type": "code",
   "execution_count": 7,
   "metadata": {},
   "outputs": [],
   "source": [
    "# save the model\n",
    "clf.model.save('./models/ANN_lin.h5')"
   ]
  },
  {
   "cell_type": "markdown",
   "metadata": {},
   "source": [
    "## 7.4 Make test prediction using Reccurent Neural Network with LSTM layers"
   ]
  },
  {
   "cell_type": "markdown",
   "metadata": {},
   "source": [
    "### 7.4.1 Import data dedicated for this model"
   ]
  },
  {
   "cell_type": "code",
   "execution_count": 8,
   "metadata": {},
   "outputs": [],
   "source": [
    "train_set = pd.read_csv(\"./preprocessed_data/processed_categorical_train_set.csv\", index_col=0)\n",
    "validation_set = pd.read_csv(\"./preprocessed_data/processed_categorical_validation_set.csv\", index_col=0)\n",
    "test_set = pd.read_csv(\"./preprocessed_data/processed_categorical_test_set.csv\", index_col=0)"
   ]
  },
  {
   "cell_type": "markdown",
   "metadata": {},
   "source": [
    "### 7.4.2 Split datasets to feature set and labels set"
   ]
  },
  {
   "cell_type": "code",
   "execution_count": 9,
   "metadata": {},
   "outputs": [],
   "source": [
    "X_train, y_train = np.array(train_set.drop(columns='FTR')), np.array(train_set['FTR'])\n",
    "X_val, y_val = np.array(validation_set.drop(columns='FTR')), np.array(validation_set['FTR'])\n",
    "X_test, y_test = np.array(test_set.drop(columns='FTR')), np.array(test_set['FTR'])\n",
    "\n",
    "# reshape feature sets to the desired shape by RNN\n",
    "X_train = np.reshape(X_train, (X_train.shape[0], X_train.shape[1], 1))\n",
    "X_val = np.reshape(X_val, (X_val.shape[0], X_val.shape[1], 1))\n",
    "X_test = np.reshape(X_test, (X_test.shape[0], X_test.shape[1], 1))"
   ]
  },
  {
   "cell_type": "markdown",
   "metadata": {},
   "source": [
    "### 7.4.3 Select the best model using Keras wraper for the Scikit-Learn API and ParameterSampler to generate models with diffrent parameters"
   ]
  },
  {
   "cell_type": "markdown",
   "metadata": {},
   "source": [
    "Check 10 combinations of neural network models to choose the best one"
   ]
  },
  {
   "cell_type": "code",
   "execution_count": null,
   "metadata": {},
   "outputs": [
    {
     "name": "stdout",
     "output_type": "stream",
     "text": [
      "KerasClassifier{'n_lstm_layers': 1, 'n_hiden_layers': 0, 'lstm_layer_size': 64, 'hidden_layer_size': 16, 'batch_size': 16}\n",
      "Accuracy score on training set: 0.462 | Accuracy score on validation set: 0.4788\n",
      "----------------------------------------------------------------------------------------------------\n",
      "KerasClassifier{'n_lstm_layers': 2, 'n_hiden_layers': 0, 'lstm_layer_size': 32, 'hidden_layer_size': 32, 'batch_size': 16}\n",
      "Accuracy score on training set: 0.5909 | Accuracy score on validation set: 0.5939\n",
      "----------------------------------------------------------------------------------------------------\n",
      "KerasClassifier{'n_lstm_layers': 2, 'n_hiden_layers': 0, 'lstm_layer_size': 64, 'hidden_layer_size': 32, 'batch_size': 16}\n",
      "Accuracy score on training set: 0.5907 | Accuracy score on validation set: 0.5818\n",
      "----------------------------------------------------------------------------------------------------\n",
      "KerasClassifier{'n_lstm_layers': 1, 'n_hiden_layers': 1, 'lstm_layer_size': 32, 'hidden_layer_size': 8, 'batch_size': 16}\n",
      "Accuracy score on training set: 0.5244 | Accuracy score on validation set: 0.4909\n",
      "----------------------------------------------------------------------------------------------------\n",
      "KerasClassifier{'n_lstm_layers': 2, 'n_hiden_layers': 0, 'lstm_layer_size': 64, 'hidden_layer_size': 16, 'batch_size': 4}\n",
      "Accuracy score on training set: 0.5704 | Accuracy score on validation set: 0.4879\n",
      "----------------------------------------------------------------------------------------------------\n",
      "KerasClassifier{'n_lstm_layers': 2, 'n_hiden_layers': 1, 'lstm_layer_size': 32, 'hidden_layer_size': 32, 'batch_size': 16}\n",
      "Accuracy score on training set: 0.5278 | Accuracy score on validation set: 0.5152\n",
      "----------------------------------------------------------------------------------------------------\n",
      "KerasClassifier{'n_lstm_layers': 2, 'n_hiden_layers': 0, 'lstm_layer_size': 32, 'hidden_layer_size': 8, 'batch_size': 8}\n",
      "Accuracy score on training set: 0.5278 | Accuracy score on validation set: 0.5152\n",
      "----------------------------------------------------------------------------------------------------\n",
      "KerasClassifier{'n_lstm_layers': 1, 'n_hiden_layers': 1, 'lstm_layer_size': 64, 'hidden_layer_size': 8, 'batch_size': 4}\n",
      "Accuracy score on training set: 0.5278 | Accuracy score on validation set: 0.5152\n",
      "----------------------------------------------------------------------------------------------------\n",
      "KerasClassifier{'n_lstm_layers': 1, 'n_hiden_layers': 0, 'lstm_layer_size': 64, 'hidden_layer_size': 32, 'batch_size': 2}\n",
      "Accuracy score on training set: 0.5406 | Accuracy score on validation set: 0.5394\n",
      "----------------------------------------------------------------------------------------------------\n"
     ]
    }
   ],
   "source": [
    "# define params for random grid search\n",
    "params_grid = {\n",
    "    'n_lstm_layers':[1, 2], \n",
    "    'lstm_layer_size': [64, 32],\n",
    "    'n_hiden_layers': [0, 1],\n",
    "    'hidden_layer_size' : [32, 16, 8],\n",
    "    'batch_size' : [2, 4, 8, 16]\n",
    "}\n",
    "\n",
    "# add early stopping callback\n",
    "early_stopping = tf.keras.callbacks.EarlyStopping(\n",
    "    monitor='val_loss', \n",
    "    verbose=0,\n",
    "    patience=10,\n",
    "    mode='max',\n",
    "    restore_best_weights=True)\n",
    "\n",
    "# function to seleting best neural network model \n",
    "clf_params, clf = select_best_nn_classifier(build_func=build_rnn_classifier, \n",
    "                                            params_grid=params_grid,\n",
    "                                            n_iter=10,\n",
    "                                            random_state=42,\n",
    "                                            X_train=X_train,\n",
    "                                            y_train=y_train, \n",
    "                                            X_val=X_val, \n",
    "                                            y_val=y_val,\n",
    "                                            early_stopping=early_stopping,\n",
    "                                            epochs=100,\n",
    "                                            shuffle=False, \n",
    "                                            verbose=1)\n",
    "\n",
    "# look on the best chosen params\n",
    "print('Best params:', clf_params)"
   ]
  },
  {
   "cell_type": "markdown",
   "metadata": {},
   "source": [
    "### 7.4.4 Calculate metrics of prediction and add results to the lists"
   ]
  },
  {
   "cell_type": "code",
   "execution_count": null,
   "metadata": {},
   "outputs": [],
   "source": [
    "# append metrics for single classifier to the list \n",
    "accuracy_score.append(metrics.accuracy_score(y_test , clf.predict(X_test)))  \n",
    "precision_score.append(metrics.precision_score(y_test , clf.predict(X_test)))\n",
    "recall_score.append(metrics.recall_score(y_test , clf.predict(X_test)))\n",
    "f1_score.append( metrics.f1_score(y_test , clf.predict(X_test)))\n",
    "roc_auc_score.append(metrics.roc_auc_score(y_test , clf.predict_proba(X_test)[:,1]))"
   ]
  },
  {
   "cell_type": "markdown",
   "metadata": {},
   "source": [
    "### 7.4.5 Save the model for future use"
   ]
  },
  {
   "cell_type": "code",
   "execution_count": null,
   "metadata": {},
   "outputs": [],
   "source": [
    "# save the model\n",
    "clf.model.save('./models/RNN_lin.h5')"
   ]
  },
  {
   "cell_type": "markdown",
   "metadata": {},
   "source": [
    "## 7.5 Show all result in one table and save it for future purpose"
   ]
  },
  {
   "cell_type": "code",
   "execution_count": null,
   "metadata": {},
   "outputs": [],
   "source": [
    "# create dictionary of results \n",
    "results_dict = {'precision_score': precision_score, \n",
    "               'recall_score': recall_score, \n",
    "               'f1_score': f1_score,\n",
    "               'roc_auc_score' : roc_auc_score,\n",
    "               'accuracy_score' : accuracy_score}\n",
    "\n",
    "results_df = pd.DataFrame(data=results_dict)\n",
    "results_df.insert(loc=0, column='Model', value=['Simple ANN', 'RNN with LSTM'])\n",
    "results_df"
   ]
  },
  {
   "cell_type": "code",
   "execution_count": null,
   "metadata": {},
   "outputs": [],
   "source": [
    "# save results\n",
    "results_df.to_csv(\"./results/neural_networks_results_lin.csv\")"
   ]
  },
  {
   "cell_type": "code",
   "execution_count": null,
   "metadata": {},
   "outputs": [],
   "source": []
  }
 ],
 "metadata": {
  "kernelspec": {
   "display_name": "Python 3",
   "language": "python",
   "name": "python3"
  },
  "language_info": {
   "codemirror_mode": {
    "name": "ipython",
    "version": 3
   },
   "file_extension": ".py",
   "mimetype": "text/x-python",
   "name": "python",
   "nbconvert_exporter": "python",
   "pygments_lexer": "ipython3",
   "version": "3.7.6"
  }
 },
 "nbformat": 4,
 "nbformat_minor": 3
}
