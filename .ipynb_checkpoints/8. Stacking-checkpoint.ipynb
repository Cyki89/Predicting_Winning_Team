{
 "cells": [
  {
   "cell_type": "markdown",
   "metadata": {},
   "source": [
    "# 8. Stacking"
   ]
  },
  {
   "cell_type": "code",
   "execution_count": 19,
   "metadata": {},
   "outputs": [],
   "source": [
    "import numpy as np\n",
    "import pandas as pd\n",
    "from sklearn import metrics\n",
    "from sklearn.linear_model import LogisticRegression\n",
    "from sklearn.svm import LinearSVC, SVC\n",
    "from sklearn.neighbors import KNeighborsClassifier\n",
    "from catboost import CatBoostClassifier\n",
    "from xgboost import XGBClassifier\n",
    "from sklearn.ensemble import RandomForestClassifier, AdaBoostClassifier, StackingClassifier\n",
    "# import tensorflow as tf\n",
    "import pickle"
   ]
  },
  {
   "cell_type": "markdown",
   "metadata": {},
   "source": [
    "## 8.1 Tree-based models"
   ]
  },
  {
   "cell_type": "code",
   "execution_count": 24,
   "metadata": {},
   "outputs": [],
   "source": [
    "train_set = pd.read_csv(\"./preprocessed_data/processed_base_train_set.csv\", index_col=0)\n",
    "validation_set = pd.read_csv(\"./preprocessed_data/processed_base_validation_set.csv\", index_col=0)\n",
    "test_set = pd.read_csv(\"./preprocessed_data/processed_base_test_set.csv\", index_col=0)\n",
    "\n",
    "X_train_base, y_train_base = np.array(train_set.drop(columns='FTR')), np.array(train_set['FTR'])\n",
    "X_val_base, y_val_base = np.array(validation_set.drop(columns='FTR')), np.array(validation_set['FTR'])\n",
    "X_test_base, y_test_base = np.array(test_set.drop(columns='FTR')), np.array(test_set['FTR'])\n",
    "\n",
    "# merge training and validation sets\n",
    "X_all_base = np.concatenate([X_train_base, X_val_base], axis=0)\n",
    "y_all_base = np.concatenate([y_train_base, y_val_base], axis=0)\n",
    "\n",
    "# load the model\n",
    "with open('./models/TreeModelsVotingClassifier.pickle', 'rb') as f:\n",
    "    voting_clf_tree = pickle.load(f)"
   ]
  },
  {
   "cell_type": "markdown",
   "metadata": {},
   "source": [
    "## 8.2 Linear models"
   ]
  },
  {
   "cell_type": "code",
   "execution_count": 25,
   "metadata": {},
   "outputs": [],
   "source": [
    "# train_set = pd.read_csv(\"./preprocessed_data/processed_categorical_train_set.csv\", index_col=0)\n",
    "# validation_set = pd.read_csv(\"./preprocessed_data/processed_categorical_validation_set.csv\", index_col=0)\n",
    "# test_set = pd.read_csv(\"./preprocessed_data/processed_categorical_test_set.csv\", index_col=0)\n",
    "\n",
    "# X_train_cat, y_train_cat = np.array(train_set.drop(columns='FTR')), np.array(train_set['FTR'])\n",
    "# X_val_cat, y_val_cat = np.array(validation_set.drop(columns='FTR')), np.array(validation_set['FTR'])\n",
    "# X_test_cat, y_test_cat = np.array(test_set.drop(columns='FTR')), np.array(test_set['FTR'])\n",
    "\n",
    "# # merge training and validation sets\n",
    "# X_all_cat = np.concatenate([X_train_cat, X_val_cat], axis=0)\n",
    "# y_all_cat = np.concatenate([y_train_cat, y_val_cat], axis=0)\n",
    "\n",
    "# load the model\n",
    "with open('./models/LinearModelsVotingClassifier.pickle', 'rb') as f:\n",
    "    voting_clf_linear = pickle.load(f)"
   ]
  },
  {
   "cell_type": "code",
   "execution_count": 26,
   "metadata": {},
   "outputs": [],
   "source": [
    "stack_clf = StackingClassifier(estimators=[*voting_clf_tree.estimators, *voting_clf_linear.estimators],\n",
    "                               final_estimator = LogisticRegression(C=0.01),\n",
    "                               cv=5,\n",
    "                               n_jobs=1,\n",
    "                               verbose=1)"
   ]
  },
  {
   "cell_type": "code",
   "execution_count": 27,
   "metadata": {},
   "outputs": [
    {
     "name": "stderr",
     "output_type": "stream",
     "text": [
      "c:\\users\\48509\\envs\\tf\\lib\\site-packages\\sklearn\\svm\\_base.py:231: ConvergenceWarning: Solver terminated early (max_iter=1000000).  Consider pre-processing your data with StandardScaler or MinMaxScaler.\n",
      "  % self.max_iter, ConvergenceWarning)\n",
      "[Parallel(n_jobs=1)]: Using backend SequentialBackend with 1 concurrent workers.\n",
      "[Parallel(n_jobs=1)]: Done   5 out of   5 | elapsed:  3.2min finished\n",
      "[Parallel(n_jobs=1)]: Using backend SequentialBackend with 1 concurrent workers.\n",
      "[Parallel(n_jobs=1)]: Done   5 out of   5 | elapsed:    8.5s finished\n",
      "[Parallel(n_jobs=1)]: Using backend SequentialBackend with 1 concurrent workers.\n",
      "[Parallel(n_jobs=1)]: Done   5 out of   5 | elapsed:  3.0min finished\n",
      "[Parallel(n_jobs=1)]: Using backend SequentialBackend with 1 concurrent workers.\n",
      "[Parallel(n_jobs=1)]: Done   5 out of   5 | elapsed:  7.3min finished\n",
      "[Parallel(n_jobs=1)]: Using backend SequentialBackend with 1 concurrent workers.\n",
      "[Parallel(n_jobs=1)]: Done   5 out of   5 | elapsed:    0.7s finished\n",
      "[Parallel(n_jobs=1)]: Using backend SequentialBackend with 1 concurrent workers.\n",
      "[Parallel(n_jobs=1)]: Done   5 out of   5 | elapsed:   52.4s finished\n",
      "[Parallel(n_jobs=1)]: Using backend SequentialBackend with 1 concurrent workers.\n",
      "c:\\users\\48509\\envs\\tf\\lib\\site-packages\\sklearn\\svm\\_base.py:231: ConvergenceWarning: Solver terminated early (max_iter=1000000).  Consider pre-processing your data with StandardScaler or MinMaxScaler.\n",
      "  % self.max_iter, ConvergenceWarning)\n",
      "c:\\users\\48509\\envs\\tf\\lib\\site-packages\\sklearn\\svm\\_base.py:231: ConvergenceWarning: Solver terminated early (max_iter=1000000).  Consider pre-processing your data with StandardScaler or MinMaxScaler.\n",
      "  % self.max_iter, ConvergenceWarning)\n",
      "c:\\users\\48509\\envs\\tf\\lib\\site-packages\\sklearn\\svm\\_base.py:231: ConvergenceWarning: Solver terminated early (max_iter=1000000).  Consider pre-processing your data with StandardScaler or MinMaxScaler.\n",
      "  % self.max_iter, ConvergenceWarning)\n",
      "c:\\users\\48509\\envs\\tf\\lib\\site-packages\\sklearn\\svm\\_base.py:231: ConvergenceWarning: Solver terminated early (max_iter=1000000).  Consider pre-processing your data with StandardScaler or MinMaxScaler.\n",
      "  % self.max_iter, ConvergenceWarning)\n",
      "c:\\users\\48509\\envs\\tf\\lib\\site-packages\\sklearn\\svm\\_base.py:231: ConvergenceWarning: Solver terminated early (max_iter=1000000).  Consider pre-processing your data with StandardScaler or MinMaxScaler.\n",
      "  % self.max_iter, ConvergenceWarning)\n",
      "[Parallel(n_jobs=1)]: Done   5 out of   5 | elapsed:  2.5min finished\n",
      "[Parallel(n_jobs=1)]: Using backend SequentialBackend with 1 concurrent workers.\n",
      "[Parallel(n_jobs=1)]: Done   5 out of   5 | elapsed:    3.0s finished\n"
     ]
    },
    {
     "data": {
      "text/plain": [
       "StackingClassifier(cv=5,\n",
       "                   estimators=[('RandomForestClassifier',\n",
       "                                RandomForestClassifier(bootstrap=True,\n",
       "                                                       ccp_alpha=0.0,\n",
       "                                                       class_weight=None,\n",
       "                                                       criterion='gini',\n",
       "                                                       max_depth=15,\n",
       "                                                       max_features='auto',\n",
       "                                                       max_leaf_nodes=None,\n",
       "                                                       max_samples=None,\n",
       "                                                       min_impurity_decrease=0.0,\n",
       "                                                       min_impurity_split=None,\n",
       "                                                       min_samples_leaf=1,\n",
       "                                                       min_samples_split=2,\n",
       "                                                       min_weight_fraction_leaf=0.0,\n",
       "                                                       n_estimators=...\n",
       "                                                     n_neighbors=15, p=2,\n",
       "                                                     weights='uniform'))],\n",
       "                   final_estimator=LogisticRegression(C=0.01, class_weight=None,\n",
       "                                                      dual=False,\n",
       "                                                      fit_intercept=True,\n",
       "                                                      intercept_scaling=1,\n",
       "                                                      l1_ratio=None,\n",
       "                                                      max_iter=100,\n",
       "                                                      multi_class='auto',\n",
       "                                                      n_jobs=None, penalty='l2',\n",
       "                                                      random_state=None,\n",
       "                                                      solver='lbfgs',\n",
       "                                                      tol=0.0001, verbose=0,\n",
       "                                                      warm_start=False),\n",
       "                   n_jobs=1, passthrough=False, stack_method='auto', verbose=1)"
      ]
     },
     "execution_count": 27,
     "metadata": {},
     "output_type": "execute_result"
    }
   ],
   "source": [
    "stack_clf.fit(X_all_base, y_all_base)"
   ]
  },
  {
   "cell_type": "code",
   "execution_count": 30,
   "metadata": {
    "scrolled": true
   },
   "outputs": [
    {
     "name": "stdout",
     "output_type": "stream",
     "text": [
      "0.6842105263157895\n",
      "0.6538461538461539\n",
      "0.6071428571428571\n",
      "0.6296296296296297\n",
      "0.6762129380053908\n"
     ]
    }
   ],
   "source": [
    "y_pred = stack_clf.predict(X_test_base)\n",
    "\n",
    "print(metrics.accuracy_score(y_test_base, y_pred))  \n",
    "print(metrics.precision_score(y_test_base, y_pred))\n",
    "print(metrics.recall_score(y_test_base, y_pred))\n",
    "print(metrics.f1_score(y_test_base, y_pred))\n",
    "print(metrics.roc_auc_score(y_test_base, y_pred))"
   ]
  },
  {
   "cell_type": "markdown",
   "metadata": {},
   "source": [
    "---------------------------------------------------------------------------------------------------------------------------------"
   ]
  },
  {
   "cell_type": "code",
   "execution_count": 14,
   "metadata": {},
   "outputs": [],
   "source": [
    "from sklearn.model_selection import StratifiedKFold, KFold"
   ]
  },
  {
   "cell_type": "code",
   "execution_count": 16,
   "metadata": {},
   "outputs": [
    {
     "name": "stdout",
     "output_type": "stream",
     "text": [
      "[   0    1    2 ... 5937 5938 5939] [   9   21   23 ... 5930 5933 5935]\n",
      "[   1    2    5 ... 5937 5938 5939] [   0    3    4 ... 5924 5925 5936]\n",
      "[   0    2    3 ... 5935 5936 5938] [   1    5    6 ... 5931 5937 5939]\n",
      "[   0    1    3 ... 5937 5938 5939] [   2   20   24 ... 5920 5932 5934]\n",
      "[   0    1    2 ... 5936 5937 5939] [  12   15   16 ... 5916 5926 5938]\n"
     ]
    }
   ],
   "source": [
    "kfold = KFold(n_splits=5, shuffle=True)\n",
    "splits = kfold.split(X_train_base, y_train_base)\n",
    "for train_idx, test_idx in splits:\n",
    "    print(train_idx,test_idx)"
   ]
  },
  {
   "cell_type": "code",
   "execution_count": null,
   "metadata": {},
   "outputs": [],
   "source": [
    "def select_best_meta_model(base_estimators, X_trains, X_vals y_train, , y_val, n_fold=5, meta_models)\n",
    "    \n",
    "\n",
    "\n",
    "meta_features = np.zeros(len(y_train), len(base_estimators))\n",
    "meta_labels = np.zeros(len(y_val), len(base_estimators))\n",
    "\n",
    "for i, (clf, X_train) in enumerate(zip(base_estimators, datasets)):\n",
    "    kfold = KFold(n_splits=n_fold, shuffle=True)\n",
    "    splits = kfold.split(X_train_base, y_train_base)\n",
    "    for train_idx, test_idx in splits:\n",
    "        clf.fit(X_train[train_idx], y_train[train_idx])\n",
    "        test_fold_pred = clf.pred_proba(X_train[test_idx])\n",
    "        meta_features[test_idx;i] = test_fold_pred\n",
    "acc_score\n",
    "for meta_model in meta_models:\n",
    "    meta.model.fit(meta_features, y_train)\n",
    "    "
   ]
  }
 ],
 "metadata": {
  "kernelspec": {
   "display_name": "Python 3",
   "language": "python",
   "name": "python3"
  },
  "language_info": {
   "codemirror_mode": {
    "name": "ipython",
    "version": 3
   },
   "file_extension": ".py",
   "mimetype": "text/x-python",
   "name": "python",
   "nbconvert_exporter": "python",
   "pygments_lexer": "ipython3",
   "version": "3.7.6"
  }
 },
 "nbformat": 4,
 "nbformat_minor": 3
}
