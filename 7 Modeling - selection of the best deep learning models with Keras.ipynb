{
 "cells": [
  {
   "cell_type": "markdown",
   "metadata": {},
   "source": [
    "# 7  Modeling - selection of the best deep learning models with Keras"
   ]
  },
  {
   "cell_type": "markdown",
   "metadata": {},
   "source": [
    "<b> Purpose of the action </b> - checking accuracy of prediction on test set using 2 different types of Neural Networks:\n",
    "- ANN only with Dense layers\n",
    "- RNN with LSTM layers\n",
    "\n",
    "<b> </b>\n",
    "<b> Action plan </b>:\n",
    "- Test 10 diffrent network for each type\n",
    "- Use  Keras wraper for the Scikit-Learn API and ParameterSampler to generate models with random hyper parameters\n",
    "- Use training set for fitting model and use validation set for model evaluation\n",
    "- Select the best one model of each type, retrain on all data and make prediction on test set\n",
    "- Select the best 5 models of each type and create AveragingNetworkClassifiers from them\n",
    "- Train him on all data and make prediction on test set\n",
    "- Create LargeAveragingNetworkClassifier from the previously created AveragingNetworkClassifier, then make prediction on test set (all network are already trained)\n",
    "- Compare all prediction accuracy and other metrics on test set and save results for future purpose"
   ]
  },
  {
   "cell_type": "markdown",
   "metadata": {},
   "source": [
    "## 7.1 Import nessesary libraries and modules"
   ]
  },
  {
   "cell_type": "code",
   "execution_count": 1,
   "metadata": {},
   "outputs": [],
   "source": [
    "import numpy as np\n",
    "import pandas as pd\n",
    "import tensorflow as tf \n",
    "from sklearn.pipeline import Pipeline\n",
    "from classifiers import AveragingNetworkClassifier, LargeAveragingClassifier\n",
    "from preprocessing_pipelines import basic_preprocess_pipeline, ImportantFeaturesSelector\n",
    "from modeling import show_best_models, build_ann, build_rnn, select_best_networks, Metrics, AnnBuilder, RnnBuilder"
   ]
  },
  {
   "cell_type": "markdown",
   "metadata": {},
   "source": [
    "## 7.2 Import base data sets"
   ]
  },
  {
   "cell_type": "code",
   "execution_count": 2,
   "metadata": {},
   "outputs": [],
   "source": [
    "# data sets for selecting best models of each type\n",
    "train_set = pd.read_csv(\"./preprocessed_data/processed_base_train_set.csv\", index_col=0)\n",
    "validation_set = pd.read_csv(\"./preprocessed_data/processed_base_validation_set.csv\", index_col=0)\n",
    "\n",
    "# data sets for final fiting and prediction\n",
    "train_set_all = pd.read_csv('./preprocessed_data/train_set_stage2.csv', index_col=0)\n",
    "test_set = pd.read_csv('./preprocessed_data/test_set_stage2.csv', index_col=0)"
   ]
  },
  {
   "cell_type": "markdown",
   "metadata": {},
   "source": [
    "## 7.3 Split datasets to feature and label sets"
   ]
  },
  {
   "cell_type": "code",
   "execution_count": 3,
   "metadata": {},
   "outputs": [],
   "source": [
    "# feature and label sets for selecting models\n",
    "X_train, y_train = np.array(train_set.drop(columns='FTR')), np.array(train_set['FTR'])\n",
    "X_val, y_val = np.array(validation_set.drop(columns='FTR')), np.array(validation_set['FTR'])\n",
    "\n",
    "# feature and label sets for final training and prediction\n",
    "X_train_all, y_train_all = train_set_all.drop(columns='FTR'), np.array(train_set_all['FTR'])\n",
    "X_test, y_test = test_set.drop(columns='FTR'), np.array(test_set['FTR'])"
   ]
  },
  {
   "cell_type": "markdown",
   "metadata": {},
   "source": [
    "## 7.4 Create placeholders to hold prediction results"
   ]
  },
  {
   "cell_type": "code",
   "execution_count": 4,
   "metadata": {},
   "outputs": [],
   "source": [
    "# placeholder to hold prediction results\n",
    "prediction_metrics = Metrics()\n",
    "\n",
    "# lists to hold model objects\n",
    "averaging_models = []"
   ]
  },
  {
   "cell_type": "markdown",
   "metadata": {},
   "source": [
    "## 7.5 Artificial Neural Network(ANN)"
   ]
  },
  {
   "cell_type": "markdown",
   "metadata": {},
   "source": [
    "### 7.5.1  Select best models"
   ]
  },
  {
   "cell_type": "markdown",
   "metadata": {},
   "source": [
    "Select the best model using Keras wraper for the Scikit-Learn API and ParameterSampler to generate models with diffrent parameters"
   ]
  },
  {
   "cell_type": "code",
   "execution_count": 5,
   "metadata": {},
   "outputs": [
    {
     "name": "stdout",
     "output_type": "stream",
     "text": [
      "KerasClassifier{'n_hiden_layers': 1, 'hidden_layer_size': 64, 'batch_size': 16}\n",
      "Accuracy score on training set: 0.6842 | Accuracy score on validation set: 0.6697\n",
      "-------------------------------------------------------------------------------------------------------------------------------\n",
      "KerasClassifier{'n_hiden_layers': 1, 'hidden_layer_size': 32, 'batch_size': 16}\n",
      "Accuracy score on training set: 0.7131 | Accuracy score on validation set: 0.703\n",
      "-------------------------------------------------------------------------------------------------------------------------------\n",
      "KerasClassifier{'n_hiden_layers': 1, 'hidden_layer_size': 16, 'batch_size': 8}\n",
      "Accuracy score on training set: 0.7121 | Accuracy score on validation set: 0.703\n",
      "-------------------------------------------------------------------------------------------------------------------------------\n",
      "KerasClassifier{'n_hiden_layers': 1, 'hidden_layer_size': 64, 'batch_size': 16}\n",
      "Accuracy score on training set: 0.7086 | Accuracy score on validation set: 0.6909\n",
      "-------------------------------------------------------------------------------------------------------------------------------\n",
      "KerasClassifier{'n_hiden_layers': 1, 'hidden_layer_size': 32, 'batch_size': 16}\n",
      "Accuracy score on training set: 0.7034 | Accuracy score on validation set: 0.7182\n",
      "-------------------------------------------------------------------------------------------------------------------------------\n",
      "KerasClassifier{'n_hiden_layers': 3, 'hidden_layer_size': 64, 'batch_size': 8}\n",
      "Accuracy score on training set: 0.6845 | Accuracy score on validation set: 0.6909\n",
      "-------------------------------------------------------------------------------------------------------------------------------\n",
      "KerasClassifier{'n_hiden_layers': 3, 'hidden_layer_size': 32, 'batch_size': 16}\n",
      "Accuracy score on training set: 0.73 | Accuracy score on validation set: 0.703\n",
      "-------------------------------------------------------------------------------------------------------------------------------\n",
      "KerasClassifier{'n_hiden_layers': 1, 'hidden_layer_size': 64, 'batch_size': 8}\n",
      "Accuracy score on training set: 0.7456 | Accuracy score on validation set: 0.7242\n",
      "-------------------------------------------------------------------------------------------------------------------------------\n",
      "KerasClassifier{'n_hiden_layers': 2, 'hidden_layer_size': 64, 'batch_size': 8}\n",
      "Accuracy score on training set: 0.702 | Accuracy score on validation set: 0.6909\n",
      "-------------------------------------------------------------------------------------------------------------------------------\n",
      "KerasClassifier{'n_hiden_layers': 1, 'hidden_layer_size': 16, 'batch_size': 16}\n",
      "Accuracy score on training set: 0.7039 | Accuracy score on validation set: 0.697\n",
      "-------------------------------------------------------------------------------------------------------------------------------\n",
      "Place: 1\n",
      "KerasClassifier{'n_hiden_layers': 1, 'hidden_layer_size': 64, 'batch_size': 8}\n",
      "Accuracy score on validation set: 0.7242\n",
      "-------------------------------------------------------------------------------------------------------------------------------\n",
      "Place: 2\n",
      "KerasClassifier{'n_hiden_layers': 1, 'hidden_layer_size': 32, 'batch_size': 16}\n",
      "Accuracy score on validation set: 0.7182\n",
      "-------------------------------------------------------------------------------------------------------------------------------\n",
      "Place: 3\n",
      "KerasClassifier{'n_hiden_layers': 3, 'hidden_layer_size': 32, 'batch_size': 16}\n",
      "Accuracy score on validation set: 0.703\n",
      "-------------------------------------------------------------------------------------------------------------------------------\n",
      "Place: 4\n",
      "KerasClassifier{'n_hiden_layers': 1, 'hidden_layer_size': 16, 'batch_size': 8}\n",
      "Accuracy score on validation set: 0.703\n",
      "-------------------------------------------------------------------------------------------------------------------------------\n",
      "Place: 5\n",
      "KerasClassifier{'n_hiden_layers': 1, 'hidden_layer_size': 32, 'batch_size': 16}\n",
      "Accuracy score on validation set: 0.703\n",
      "-------------------------------------------------------------------------------------------------------------------------------\n"
     ]
    }
   ],
   "source": [
    "# define params for random grid search\n",
    "params_grid = {\n",
    "    'n_hiden_layers': [1, 1, 2, 2, 3],\n",
    "    'hidden_layer_size' : [64, 32, 16],\n",
    "    'batch_size' : [8, 16]\n",
    "}\n",
    "\n",
    "# add early stopping callback\n",
    "early_stopping = tf.keras.callbacks.EarlyStopping(\n",
    "    monitor='val_accuracy', \n",
    "    verbose=0,\n",
    "    patience=10,\n",
    "    mode='max',\n",
    "    restore_best_weights=True)\n",
    "\n",
    "# funtion select 5 best neural network\n",
    "best_models, best_scoring, = select_best_networks(build_func=build_ann, \n",
    "                                                  params_grid=params_grid,\n",
    "                                                  n_iter=10,\n",
    "                                                  random_state=23,\n",
    "                                                  X_train=X_train,\n",
    "                                                  y_train=y_train, \n",
    "                                                  X_val=X_val, \n",
    "                                                  y_val=y_val,\n",
    "                                                  early_stopping=early_stopping,\n",
    "                                                  kind = 'ann',\n",
    "                                                  epochs=50,\n",
    "                                                  shuffle=True, \n",
    "                                                  verbose=1,\n",
    "                                                  n_best_models=5)\n",
    "# show best selected models\n",
    "show_best_models(best_models, best_scoring)"
   ]
  },
  {
   "cell_type": "markdown",
   "metadata": {},
   "source": [
    "### 7.5.2 Extract single models from list"
   ]
  },
  {
   "cell_type": "code",
   "execution_count": 6,
   "metadata": {},
   "outputs": [],
   "source": [
    "clf_1, clf_2, clf_3, clf_4, clf_5 = best_models[:,1][0].steps[1][1].model, best_models[:,1][1].steps[1][1].model, \\\n",
    "                                    best_models[:,1][2].steps[1][1].model, best_models[:,1][3].steps[1][1].model, \\\n",
    "                                    best_models[:,1][4].steps[1][1].model"
   ]
  },
  {
   "cell_type": "markdown",
   "metadata": {},
   "source": [
    "### 7.5.3 Create compleated pipelines (with scaling, encoding and futures selection) for each individual classifiers"
   ]
  },
  {
   "cell_type": "code",
   "execution_count": 7,
   "metadata": {},
   "outputs": [],
   "source": [
    "# all base preprocess pipeline and transformers come from module preprocessing_pipelines.py\n",
    "pipe_clf_1 = Pipeline([ ('preprocess_pipeline', basic_preprocess_pipeline),\n",
    "                        ('feature_seletion', ImportantFeaturesSelector(clf_1, 'ann') ),\n",
    "                        ('classification', AnnBuilder(clf_1))\n",
    "                      ])\n",
    "\n",
    "pipe_clf_2 = Pipeline([ ('preprocess_pipeline', basic_preprocess_pipeline),\n",
    "                        ('feature_seletion', ImportantFeaturesSelector(clf_2, 'ann') ),\n",
    "                        ('classification', AnnBuilder(clf_2))\n",
    "                      ])\n",
    "\n",
    "pipe_clf_3 = Pipeline([ ('preprocess_pipeline', basic_preprocess_pipeline),\n",
    "                        ('feature_seletion', ImportantFeaturesSelector(clf_3, 'ann') ),\n",
    "                        ('classification', AnnBuilder(clf_3))\n",
    "                      ])\n",
    "\n",
    "pipe_clf_4 = Pipeline([ ('preprocess_pipeline', basic_preprocess_pipeline),\n",
    "                        ('feature_seletion', ImportantFeaturesSelector(clf_4, 'ann') ),\n",
    "                        ('classification', AnnBuilder(clf_4))\n",
    "                      ])\n",
    "\n",
    "pipe_clf_5 = Pipeline([ ('preprocess_pipeline', basic_preprocess_pipeline),\n",
    "                        ('feature_seletion', ImportantFeaturesSelector(clf_5, 'ann') ),\n",
    "                        ('classification', AnnBuilder(clf_5))\n",
    "                      ])"
   ]
  },
  {
   "cell_type": "markdown",
   "metadata": {},
   "source": [
    "### 7.5.4  Make AveragingClassifier from the best 5 selected models (pipelines)"
   ]
  },
  {
   "cell_type": "code",
   "execution_count": 8,
   "metadata": {},
   "outputs": [],
   "source": [
    "avg_clf = AveragingNetworkClassifier(base_estimators=[pipe_clf_1,\n",
    "                                                      pipe_clf_2,\n",
    "                                                      pipe_clf_3,\n",
    "                                                      pipe_clf_4,\n",
    "                                                      pipe_clf_5],\n",
    "                                      voting='soft')\n",
    "# print(avg_clf.base_estimators[0])"
   ]
  },
  {
   "cell_type": "markdown",
   "metadata": {},
   "source": [
    "### 7.5.5 Fit single and averaging models on the entire data set "
   ]
  },
  {
   "cell_type": "code",
   "execution_count": 9,
   "metadata": {},
   "outputs": [
    {
     "name": "stdout",
     "output_type": "stream",
     "text": [
      "ANN AveragingANN\n"
     ]
    }
   ],
   "source": [
    "# train models on all data\n",
    "pipe_clf_1.fit(X_train_all, y_train_all)\n",
    "avg_clf.fit(X_train_all, y_train_all)\n",
    "\n",
    "# give models a name\n",
    "clf_1_name = 'ANN'\n",
    "avg_clf_name = f'Averaging{clf_1_name}'\n",
    "print(clf_1_name, avg_clf_name)"
   ]
  },
  {
   "cell_type": "markdown",
   "metadata": {},
   "source": [
    "### 7.5.6 Calculate metrics of prediction and add results to the lists"
   ]
  },
  {
   "cell_type": "code",
   "execution_count": 10,
   "metadata": {},
   "outputs": [],
   "source": [
    "# add prediction metrics for single classifier to placeholder\n",
    "prediction_metrics.add_metrics(pipe_clf_1, clf_1_name, X_test, y_test)\n",
    "\n",
    "# add prediction metrics for voting classifier to placeholder\n",
    "prediction_metrics.add_metrics(avg_clf, avg_clf_name, X_test, y_test)\n",
    "\n",
    "# add both classifiers to the lists (to create largest average classifiers)\n",
    "averaging_models.append( (avg_clf) )"
   ]
  },
  {
   "cell_type": "markdown",
   "metadata": {},
   "source": [
    "## 7.6 Recurrent Neural Network(RNN)"
   ]
  },
  {
   "cell_type": "markdown",
   "metadata": {},
   "source": [
    "### 7.6.1  Select best models"
   ]
  },
  {
   "cell_type": "markdown",
   "metadata": {},
   "source": [
    "Select the best model using Keras wraper for the Scikit-Learn API and ParameterSampler to generate models with diffrent parameters"
   ]
  },
  {
   "cell_type": "code",
   "execution_count": 11,
   "metadata": {},
   "outputs": [
    {
     "name": "stdout",
     "output_type": "stream",
     "text": [
      "KerasClassifier{'n_lstm_layers': 2, 'n_hiden_layers': 1, 'lstm_layer_size': 32, 'hidden_layer_size': 16, 'batch_size': 16}\n",
      "Accuracy score on training set: 0.7327 | Accuracy score on validation set: 0.697\n",
      "-------------------------------------------------------------------------------------------------------------------------------\n",
      "KerasClassifier{'n_lstm_layers': 2, 'n_hiden_layers': 1, 'lstm_layer_size': 32, 'hidden_layer_size': 32, 'batch_size': 16}\n",
      "Accuracy score on training set: 0.7131 | Accuracy score on validation set: 0.6879\n",
      "-------------------------------------------------------------------------------------------------------------------------------\n",
      "KerasClassifier{'n_lstm_layers': 2, 'n_hiden_layers': 0, 'lstm_layer_size': 32, 'hidden_layer_size': 32, 'batch_size': 16}\n",
      "Accuracy score on training set: 0.746 | Accuracy score on validation set: 0.6909\n",
      "-------------------------------------------------------------------------------------------------------------------------------\n",
      "KerasClassifier{'n_lstm_layers': 2, 'n_hiden_layers': 1, 'lstm_layer_size': 32, 'hidden_layer_size': 32, 'batch_size': 16}\n",
      "Accuracy score on training set: 0.6946 | Accuracy score on validation set: 0.6758\n",
      "-------------------------------------------------------------------------------------------------------------------------------\n",
      "KerasClassifier{'n_lstm_layers': 2, 'n_hiden_layers': 0, 'lstm_layer_size': 32, 'hidden_layer_size': 32, 'batch_size': 8}\n",
      "Accuracy score on training set: 0.6966 | Accuracy score on validation set: 0.6848\n",
      "-------------------------------------------------------------------------------------------------------------------------------\n",
      "KerasClassifier{'n_lstm_layers': 2, 'n_hiden_layers': 0, 'lstm_layer_size': 64, 'hidden_layer_size': 16, 'batch_size': 8}\n",
      "Accuracy score on training set: 0.7306 | Accuracy score on validation set: 0.7182\n",
      "-------------------------------------------------------------------------------------------------------------------------------\n",
      "KerasClassifier{'n_lstm_layers': 1, 'n_hiden_layers': 1, 'lstm_layer_size': 64, 'hidden_layer_size': 32, 'batch_size': 16}\n",
      "Accuracy score on training set: 0.6933 | Accuracy score on validation set: 0.6848\n",
      "-------------------------------------------------------------------------------------------------------------------------------\n",
      "KerasClassifier{'n_lstm_layers': 2, 'n_hiden_layers': 1, 'lstm_layer_size': 64, 'hidden_layer_size': 32, 'batch_size': 16}\n",
      "Accuracy score on training set: 0.7391 | Accuracy score on validation set: 0.7242\n",
      "-------------------------------------------------------------------------------------------------------------------------------\n",
      "KerasClassifier{'n_lstm_layers': 1, 'n_hiden_layers': 1, 'lstm_layer_size': 64, 'hidden_layer_size': 32, 'batch_size': 8}\n",
      "Accuracy score on training set: 0.7601 | Accuracy score on validation set: 0.7\n",
      "-------------------------------------------------------------------------------------------------------------------------------\n",
      "KerasClassifier{'n_lstm_layers': 2, 'n_hiden_layers': 1, 'lstm_layer_size': 64, 'hidden_layer_size': 16, 'batch_size': 16}\n",
      "Accuracy score on training set: 0.736 | Accuracy score on validation set: 0.7061\n",
      "-------------------------------------------------------------------------------------------------------------------------------\n",
      "Place: 1\n",
      "KerasClassifier{'n_lstm_layers': 2, 'n_hiden_layers': 1, 'lstm_layer_size': 64, 'hidden_layer_size': 32, 'batch_size': 16}\n",
      "Accuracy score on validation set: 0.7242\n",
      "-------------------------------------------------------------------------------------------------------------------------------\n",
      "Place: 2\n",
      "KerasClassifier{'n_lstm_layers': 2, 'n_hiden_layers': 0, 'lstm_layer_size': 64, 'hidden_layer_size': 16, 'batch_size': 8}\n",
      "Accuracy score on validation set: 0.7182\n",
      "-------------------------------------------------------------------------------------------------------------------------------\n",
      "Place: 3\n",
      "KerasClassifier{'n_lstm_layers': 2, 'n_hiden_layers': 1, 'lstm_layer_size': 64, 'hidden_layer_size': 16, 'batch_size': 16}\n",
      "Accuracy score on validation set: 0.7061\n",
      "-------------------------------------------------------------------------------------------------------------------------------\n",
      "Place: 4\n",
      "KerasClassifier{'n_lstm_layers': 1, 'n_hiden_layers': 1, 'lstm_layer_size': 64, 'hidden_layer_size': 32, 'batch_size': 8}\n",
      "Accuracy score on validation set: 0.7\n",
      "-------------------------------------------------------------------------------------------------------------------------------\n",
      "Place: 5\n",
      "KerasClassifier{'n_lstm_layers': 2, 'n_hiden_layers': 1, 'lstm_layer_size': 32, 'hidden_layer_size': 16, 'batch_size': 16}\n",
      "Accuracy score on validation set: 0.697\n",
      "-------------------------------------------------------------------------------------------------------------------------------\n"
     ]
    }
   ],
   "source": [
    "# define params for random grid search\n",
    "params_grid = {\n",
    "    'n_lstm_layers':[1, 2, 2], \n",
    "    'lstm_layer_size': [64, 32],\n",
    "    'n_hiden_layers': [0, 0, 1],\n",
    "    'hidden_layer_size' : [32, 16],\n",
    "    'batch_size' : [16, 16, 8]\n",
    "}\n",
    "\n",
    "# add early stopping callback\n",
    "early_stopping = tf.keras.callbacks.EarlyStopping(\n",
    "    monitor='val_accuracy', \n",
    "    verbose=0,\n",
    "    patience=10,\n",
    "    mode='max',\n",
    "    restore_best_weights=True)\n",
    "\n",
    "# funtion select 5 best neural network\n",
    "best_models, best_scoring, = select_best_networks(build_func=build_rnn, \n",
    "                                                  params_grid=params_grid,\n",
    "                                                  n_iter=10,\n",
    "                                                  random_state=23,\n",
    "                                                  X_train=X_train,\n",
    "                                                  y_train=y_train, \n",
    "                                                  X_val=X_val, \n",
    "                                                  y_val=y_val,\n",
    "                                                  early_stopping=early_stopping,\n",
    "                                                  kind = 'rnn',\n",
    "                                                  epochs=50,\n",
    "                                                  shuffle=True, \n",
    "                                                  verbose=1,\n",
    "                                                  n_best_models=5)\n",
    "# show best selected models\n",
    "show_best_models(best_models, best_scoring)"
   ]
  },
  {
   "cell_type": "markdown",
   "metadata": {},
   "source": [
    "### 7.6.2 Extract single models from list"
   ]
  },
  {
   "cell_type": "code",
   "execution_count": 12,
   "metadata": {},
   "outputs": [],
   "source": [
    "clf_1, clf_2, clf_3, clf_4, clf_5 = best_models[:,1][0].steps[1][1].model, best_models[:,1][1].steps[1][1].model, \\\n",
    "                                    best_models[:,1][2].steps[1][1].model, best_models[:,1][3].steps[1][1].model, \\\n",
    "                                    best_models[:,1][4].steps[1][1].model"
   ]
  },
  {
   "cell_type": "markdown",
   "metadata": {},
   "source": [
    "### 7.6.3 Create compleated pipelines (with scaling, encoding and futures selection) for each individual classifiers"
   ]
  },
  {
   "cell_type": "code",
   "execution_count": 13,
   "metadata": {},
   "outputs": [],
   "source": [
    "# all base preprocess pipeline and transformers come from module preprocessing_pipelines.py\n",
    "pipe_clf_1 = Pipeline([ ('preprocess_pipeline', basic_preprocess_pipeline),\n",
    "                        ('feature_seletion', ImportantFeaturesSelector(clf_1, 'rnn') ),\n",
    "                        ('classification', RnnBuilder(clf_1))\n",
    "                      ])\n",
    "\n",
    "pipe_clf_2 = Pipeline([ ('preprocess_pipeline', basic_preprocess_pipeline),\n",
    "                        ('feature_seletion', ImportantFeaturesSelector(clf_2, 'rnn') ),\n",
    "                        ('classification', RnnBuilder(clf_2))\n",
    "                      ])\n",
    "\n",
    "pipe_clf_3 = Pipeline([ ('preprocess_pipeline', basic_preprocess_pipeline),\n",
    "                        ('feature_seletion', ImportantFeaturesSelector(clf_3, 'rnn') ),\n",
    "                        ('classification', RnnBuilder(clf_3))\n",
    "                      ])\n",
    "\n",
    "pipe_clf_4 = Pipeline([ ('preprocess_pipeline', basic_preprocess_pipeline),\n",
    "                        ('feature_seletion', ImportantFeaturesSelector(clf_4, 'rnn') ),\n",
    "                        ('classification', RnnBuilder(clf_4))\n",
    "                      ])\n",
    "\n",
    "pipe_clf_5 = Pipeline([ ('preprocess_pipeline', basic_preprocess_pipeline),\n",
    "                        ('feature_seletion', ImportantFeaturesSelector(clf_5, 'rnn') ),\n",
    "                        ('classification', RnnBuilder(clf_5))\n",
    "                      ])"
   ]
  },
  {
   "cell_type": "markdown",
   "metadata": {},
   "source": [
    "### 7.6.4  Make AveragingClassifier from the best 5 selected models (pipelines)"
   ]
  },
  {
   "cell_type": "code",
   "execution_count": 14,
   "metadata": {},
   "outputs": [],
   "source": [
    "avg_clf = AveragingNetworkClassifier(base_estimators=[pipe_clf_1,\n",
    "                                                      pipe_clf_2,\n",
    "                                                      pipe_clf_3,\n",
    "                                                      pipe_clf_4,\n",
    "                                                      pipe_clf_5],\n",
    "                                      voting='soft')\n",
    "# print(avg_clf.base_estimators[0])"
   ]
  },
  {
   "cell_type": "markdown",
   "metadata": {},
   "source": [
    "### 7.6.5 Fit single and averaging models on the entire data set "
   ]
  },
  {
   "cell_type": "code",
   "execution_count": 21,
   "metadata": {},
   "outputs": [
    {
     "name": "stdout",
     "output_type": "stream",
     "text": [
      "RNN AveragingRNN\n"
     ]
    }
   ],
   "source": [
    "# train models on all data\n",
    "pipe_clf_1.fit(X_train_all, y_train_all)\n",
    "avg_clf.fit(X_train_all, y_train_all)\n",
    "\n",
    "# give models a name\n",
    "clf_1_name = 'RNN'\n",
    "avg_clf_name = f'Averaging{clf_1_name}'\n",
    "print(clf_1_name, avg_clf_name)"
   ]
  },
  {
   "cell_type": "markdown",
   "metadata": {},
   "source": [
    "### 7.6.6 Calculate metrics of prediction and add results to the lists"
   ]
  },
  {
   "cell_type": "code",
   "execution_count": 16,
   "metadata": {},
   "outputs": [],
   "source": [
    "# add prediction metrics for single classifier to placeholder\n",
    "prediction_metrics.add_metrics(pipe_clf_1, clf_1_name, X_test, y_test)\n",
    "\n",
    "# add prediction metrics for averaging classifier to placeholder\n",
    "prediction_metrics.add_metrics(avg_clf, avg_clf_name, X_test, y_test)\n",
    "\n",
    "# add both classifiers to the lists (to create largest average classifiers)\n",
    "averaging_models.append( (avg_clf) )"
   ]
  },
  {
   "cell_type": "markdown",
   "metadata": {},
   "source": [
    "## 7.7 Merge averaging models in largest averaging model"
   ]
  },
  {
   "cell_type": "markdown",
   "metadata": {},
   "source": [
    "### 7.7.1 Create new largest averaging model"
   ]
  },
  {
   "cell_type": "code",
   "execution_count": 17,
   "metadata": {},
   "outputs": [
    {
     "name": "stdout",
     "output_type": "stream",
     "text": [
      "LargeNeuralNetworkAveragingClassifier\n"
     ]
    }
   ],
   "source": [
    "# create model (all base models is already fitted)\n",
    "\n",
    "# as base models using averaging classifier\n",
    "large_average_network_clf = LargeAveragingClassifier(base_estimators=averaging_models, voting='soft')\n",
    "\n",
    "# give model a name\n",
    "large_average_network_clf_name = 'LargeNeuralNetworkAveragingClassifier'\n",
    "print(large_average_network_clf_name)"
   ]
  },
  {
   "cell_type": "markdown",
   "metadata": {},
   "source": [
    "### 7.7.2 Calculate metrics of prediction and add results to the lists"
   ]
  },
  {
   "cell_type": "code",
   "execution_count": 18,
   "metadata": {},
   "outputs": [],
   "source": [
    "# add prediction metrics for large averaging classifier to placeholder\n",
    "prediction_metrics.add_metrics(large_average_network_clf, large_average_network_clf_name, X_test, y_test)"
   ]
  },
  {
   "cell_type": "markdown",
   "metadata": {},
   "source": [
    "## 7.8 Show all result in one table and save it for future purpose"
   ]
  },
  {
   "cell_type": "code",
   "execution_count": 19,
   "metadata": {},
   "outputs": [
    {
     "data": {
      "text/html": [
       "<div>\n",
       "<style scoped>\n",
       "    .dataframe tbody tr th:only-of-type {\n",
       "        vertical-align: middle;\n",
       "    }\n",
       "\n",
       "    .dataframe tbody tr th {\n",
       "        vertical-align: top;\n",
       "    }\n",
       "\n",
       "    .dataframe thead th {\n",
       "        text-align: right;\n",
       "    }\n",
       "</style>\n",
       "<table border=\"1\" class=\"dataframe\">\n",
       "  <thead>\n",
       "    <tr style=\"text-align: right;\">\n",
       "      <th></th>\n",
       "      <th>Model</th>\n",
       "      <th>precision_score</th>\n",
       "      <th>recall_score</th>\n",
       "      <th>f1_score</th>\n",
       "      <th>roc_auc_score</th>\n",
       "      <th>accuracy_score</th>\n",
       "    </tr>\n",
       "  </thead>\n",
       "  <tbody>\n",
       "    <tr>\n",
       "      <th>0</th>\n",
       "      <td>ANN</td>\n",
       "      <td>0.657534</td>\n",
       "      <td>0.571429</td>\n",
       "      <td>0.611465</td>\n",
       "      <td>0.746069</td>\n",
       "      <td>0.678947</td>\n",
       "    </tr>\n",
       "    <tr>\n",
       "      <th>1</th>\n",
       "      <td>AveragingANN</td>\n",
       "      <td>0.693333</td>\n",
       "      <td>0.619048</td>\n",
       "      <td>0.654088</td>\n",
       "      <td>0.750225</td>\n",
       "      <td>0.710526</td>\n",
       "    </tr>\n",
       "    <tr>\n",
       "      <th>2</th>\n",
       "      <td>RNN</td>\n",
       "      <td>0.630137</td>\n",
       "      <td>0.547619</td>\n",
       "      <td>0.585987</td>\n",
       "      <td>0.702493</td>\n",
       "      <td>0.657895</td>\n",
       "    </tr>\n",
       "    <tr>\n",
       "      <th>3</th>\n",
       "      <td>AveragingRNN</td>\n",
       "      <td>0.666667</td>\n",
       "      <td>0.595238</td>\n",
       "      <td>0.628931</td>\n",
       "      <td>0.735737</td>\n",
       "      <td>0.689474</td>\n",
       "    </tr>\n",
       "    <tr>\n",
       "      <th>4</th>\n",
       "      <td>LargeNeuralNetworkAveragingClassifier</td>\n",
       "      <td>0.666667</td>\n",
       "      <td>0.571429</td>\n",
       "      <td>0.615385</td>\n",
       "      <td>0.744609</td>\n",
       "      <td>0.684211</td>\n",
       "    </tr>\n",
       "  </tbody>\n",
       "</table>\n",
       "</div>"
      ],
      "text/plain": [
       "                                   Model  precision_score  recall_score  \\\n",
       "0                                    ANN         0.657534      0.571429   \n",
       "1                           AveragingANN         0.693333      0.619048   \n",
       "2                                    RNN         0.630137      0.547619   \n",
       "3                           AveragingRNN         0.666667      0.595238   \n",
       "4  LargeNeuralNetworkAveragingClassifier         0.666667      0.571429   \n",
       "\n",
       "   f1_score  roc_auc_score  accuracy_score  \n",
       "0  0.611465       0.746069        0.678947  \n",
       "1  0.654088       0.750225        0.710526  \n",
       "2  0.585987       0.702493        0.657895  \n",
       "3  0.628931       0.735737        0.689474  \n",
       "4  0.615385       0.744609        0.684211  "
      ]
     },
     "execution_count": 19,
     "metadata": {},
     "output_type": "execute_result"
    }
   ],
   "source": [
    "# get prediction metric result lists from placeholder\n",
    "precision_score, recall_score, f1_score, roc_auc_score, accuracy_score = prediction_metrics.get_metrics()\n",
    "\n",
    "# get model names list from placeholder\n",
    "models_name = prediction_metrics.get_names()\n",
    "\n",
    "# create dictionary of results \n",
    "results_dict = {'precision_score': precision_score, \n",
    "               'recall_score': recall_score, \n",
    "               'f1_score': f1_score,\n",
    "               'roc_auc_score' : roc_auc_score,\n",
    "               'accuracy_score' : accuracy_score}\n",
    "\n",
    "results_df = pd.DataFrame(data=results_dict)\n",
    "results_df.insert(loc=0, column='Model', value=models_name)\n",
    "results_df"
   ]
  },
  {
   "cell_type": "code",
   "execution_count": 20,
   "metadata": {},
   "outputs": [],
   "source": [
    "results_df.to_csv(\"./results/neural_network_results.csv\")"
   ]
  }
 ],
 "metadata": {
  "kernelspec": {
   "display_name": "Python 3",
   "language": "python",
   "name": "python3"
  },
  "language_info": {
   "codemirror_mode": {
    "name": "ipython",
    "version": 3
   },
   "file_extension": ".py",
   "mimetype": "text/x-python",
   "name": "python",
   "nbconvert_exporter": "python",
   "pygments_lexer": "ipython3",
   "version": "3.7.6"
  }
 },
 "nbformat": 4,
 "nbformat_minor": 3
}
